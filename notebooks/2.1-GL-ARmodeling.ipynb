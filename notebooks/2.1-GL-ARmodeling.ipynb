{
 "cells": [
  {
   "cell_type": "markdown",
   "source": [
    "# AR models"
   ],
   "metadata": {
    "collapsed": false,
    "pycharm": {
     "name": "#%% md\n"
    }
   }
  },
  {
   "cell_type": "code",
   "execution_count": 50,
   "metadata": {
    "collapsed": true,
    "pycharm": {
     "name": "#%%\n"
    }
   },
   "outputs": [],
   "source": [
    "# System\n",
    "# ================================\n",
    "import os\n",
    "\n",
    "# Data import and manipulation\n",
    "# ================================\n",
    "import pandas as pd\n",
    "import numpy as np\n",
    "import re\n",
    "\n",
    "# Modelling and Forecasting\n",
    "# ==============================================================================\n",
    "from sklearn.linear_model import Ridge\n",
    "from sklearn.pipeline import make_pipeline\n",
    "from sklearn.preprocessing import StandardScaler, RobustScaler\n",
    "from skforecast.ForecasterAutoreg import ForecasterAutoreg\n",
    "from skforecast.model_selection import grid_search_forecaster\n",
    "from skforecast.model_selection import backtesting_forecaster\n",
    "from statsmodels.stats.diagnostic import het_breuschpagan\n",
    "from sklearn.metrics import mean_absolute_percentage_error\n",
    "\n",
    "# Plots\n",
    "# ==============================================================================\n",
    "import seaborn as sn\n",
    "from matplotlib import pyplot as plt\n",
    "\n",
    "# Warnings configuration\n",
    "# ==============================================================================\n",
    "import warnings\n",
    "warnings.filterwarnings('ignore')"
   ]
  },
  {
   "cell_type": "code",
   "execution_count": 51,
   "outputs": [],
   "source": [
    "py_path = re.sub(r\"\\\\\", \"/\", os.environ[\"PYTHONPATH\"])"
   ],
   "metadata": {
    "collapsed": false,
    "pycharm": {
     "name": "#%%\n"
    }
   }
  },
  {
   "cell_type": "code",
   "execution_count": 52,
   "outputs": [
    {
     "data": {
      "text/plain": "                     generation biomass  generation fossil brown coal/lignite  \\\ntime                                                                            \n2015-01-01 00:00:00               447.0                                 329.0   \n2015-01-01 01:00:00               449.0                                 328.0   \n2015-01-01 02:00:00               448.0                                 323.0   \n2015-01-01 03:00:00               438.0                                 254.0   \n2015-01-01 04:00:00               428.0                                 187.0   \n...                                 ...                                   ...   \n2018-12-31 19:00:00               297.0                                   0.0   \n2018-12-31 20:00:00               296.0                                   0.0   \n2018-12-31 21:00:00               292.0                                   0.0   \n2018-12-31 22:00:00               293.0                                   0.0   \n2018-12-31 23:00:00               290.0                                   0.0   \n\n                     generation fossil gas  generation fossil hard coal  \\\ntime                                                                      \n2015-01-01 00:00:00                 4844.0                       4821.0   \n2015-01-01 01:00:00                 5196.0                       4755.0   \n2015-01-01 02:00:00                 4857.0                       4581.0   \n2015-01-01 03:00:00                 4314.0                       4131.0   \n2015-01-01 04:00:00                 4130.0                       3840.0   \n...                                    ...                          ...   \n2018-12-31 19:00:00                 7634.0                       2628.0   \n2018-12-31 20:00:00                 7241.0                       2566.0   \n2018-12-31 21:00:00                 7025.0                       2422.0   \n2018-12-31 22:00:00                 6562.0                       2293.0   \n2018-12-31 23:00:00                 6926.0                       2166.0   \n\n                     generation fossil oil  \\\ntime                                         \n2015-01-01 00:00:00                  162.0   \n2015-01-01 01:00:00                  158.0   \n2015-01-01 02:00:00                  157.0   \n2015-01-01 03:00:00                  160.0   \n2015-01-01 04:00:00                  156.0   \n...                                    ...   \n2018-12-31 19:00:00                  178.0   \n2018-12-31 20:00:00                  174.0   \n2018-12-31 21:00:00                  168.0   \n2018-12-31 22:00:00                  163.0   \n2018-12-31 23:00:00                  163.0   \n\n                     generation hydro pumped storage consumption  \\\ntime                                                               \n2015-01-01 00:00:00                                        863.0   \n2015-01-01 01:00:00                                        920.0   \n2015-01-01 02:00:00                                       1164.0   \n2015-01-01 03:00:00                                       1503.0   \n2015-01-01 04:00:00                                       1826.0   \n...                                                          ...   \n2018-12-31 19:00:00                                          1.0   \n2018-12-31 20:00:00                                          1.0   \n2018-12-31 21:00:00                                         50.0   \n2018-12-31 22:00:00                                        108.0   \n2018-12-31 23:00:00                                        108.0   \n\n                     generation hydro run-of-river and poundage  \\\ntime                                                              \n2015-01-01 00:00:00                                      1051.0   \n2015-01-01 01:00:00                                      1009.0   \n2015-01-01 02:00:00                                       973.0   \n2015-01-01 03:00:00                                       949.0   \n2015-01-01 04:00:00                                       953.0   \n...                                                         ...   \n2018-12-31 19:00:00                                      1135.0   \n2018-12-31 20:00:00                                      1172.0   \n2018-12-31 21:00:00                                      1148.0   \n2018-12-31 22:00:00                                      1128.0   \n2018-12-31 23:00:00                                      1069.0   \n\n                     generation hydro water reservoir  generation nuclear  \\\ntime                                                                        \n2015-01-01 00:00:00                            1899.0              7096.0   \n2015-01-01 01:00:00                            1658.0              7096.0   \n2015-01-01 02:00:00                            1371.0              7099.0   \n2015-01-01 03:00:00                             779.0              7098.0   \n2015-01-01 04:00:00                             720.0              7097.0   \n...                                               ...                 ...   \n2018-12-31 19:00:00                            4836.0              6073.0   \n2018-12-31 20:00:00                            3931.0              6074.0   \n2018-12-31 21:00:00                            2831.0              6076.0   \n2018-12-31 22:00:00                            2068.0              6075.0   \n2018-12-31 23:00:00                            1686.0              6075.0   \n\n                     generation other  ...  price actual  precipitation  \\\ntime                                   ...                                \n2015-01-01 00:00:00              43.0  ...         65.41   1.000000e-07   \n2015-01-01 01:00:00              43.0  ...         64.92   2.000000e-07   \n2015-01-01 02:00:00              43.0  ...         64.48   2.000000e-07   \n2015-01-01 03:00:00              43.0  ...         59.32   2.000000e-07   \n2015-01-01 04:00:00              43.0  ...         56.04   1.000000e-07   \n...                               ...  ...           ...            ...   \n2018-12-31 19:00:00              63.0  ...         77.02   0.000000e+00   \n2018-12-31 20:00:00              62.0  ...         76.16   0.000000e+00   \n2018-12-31 21:00:00              61.0  ...         74.30   0.000000e+00   \n2018-12-31 22:00:00              61.0  ...         69.89   0.000000e+00   \n2018-12-31 23:00:00              61.0  ...         69.88   0.000000e+00   \n\n                     temperature  irradiance_surface  irradiance_toa  \\\ntime                                                                   \n2015-01-01 00:00:00        0.451                 0.0             0.0   \n2015-01-01 01:00:00        0.234                 0.0             0.0   \n2015-01-01 02:00:00        0.129                 0.0             0.0   \n2015-01-01 03:00:00        0.008                 0.0             0.0   \n2015-01-01 04:00:00        0.042                 0.0             0.0   \n...                          ...                 ...             ...   \n2018-12-31 19:00:00        6.908                 0.0             0.0   \n2018-12-31 20:00:00        6.164                 0.0             0.0   \n2018-12-31 21:00:00        5.575                 0.0             0.0   \n2018-12-31 22:00:00        5.146                 0.0             0.0   \n2018-12-31 23:00:00        4.811                 0.0             0.0   \n\n                     snowfall  snow_mass  cloud_cover  air_density  Holidays  \ntime                                                                          \n2015-01-01 00:00:00       0.0      2.781       0.0868       11.948         1  \n2015-01-01 01:00:00       0.0      2.781       0.1135       11.957         1  \n2015-01-01 02:00:00       0.0      2.781       0.0127       11.965         1  \n2015-01-01 03:00:00       0.0      0.278       0.1154       11.971         1  \n2015-01-01 04:00:00       0.0      0.278       0.0984       11.978         1  \n...                       ...        ...          ...          ...       ...  \n2018-12-31 19:00:00       0.0      0.000       0.0305       11.669         0  \n2018-12-31 20:00:00       0.0      0.000       0.0338       11.692         0  \n2018-12-31 21:00:00       0.0      0.000       0.0408        1.171         0  \n2018-12-31 22:00:00       0.0      0.000       0.0446       11.724         0  \n2018-12-31 23:00:00       0.0      0.000       0.0481       11.735         0  \n\n[35064 rows x 29 columns]",
      "text/html": "<div>\n<style scoped>\n    .dataframe tbody tr th:only-of-type {\n        vertical-align: middle;\n    }\n\n    .dataframe tbody tr th {\n        vertical-align: top;\n    }\n\n    .dataframe thead th {\n        text-align: right;\n    }\n</style>\n<table border=\"1\" class=\"dataframe\">\n  <thead>\n    <tr style=\"text-align: right;\">\n      <th></th>\n      <th>generation biomass</th>\n      <th>generation fossil brown coal/lignite</th>\n      <th>generation fossil gas</th>\n      <th>generation fossil hard coal</th>\n      <th>generation fossil oil</th>\n      <th>generation hydro pumped storage consumption</th>\n      <th>generation hydro run-of-river and poundage</th>\n      <th>generation hydro water reservoir</th>\n      <th>generation nuclear</th>\n      <th>generation other</th>\n      <th>...</th>\n      <th>price actual</th>\n      <th>precipitation</th>\n      <th>temperature</th>\n      <th>irradiance_surface</th>\n      <th>irradiance_toa</th>\n      <th>snowfall</th>\n      <th>snow_mass</th>\n      <th>cloud_cover</th>\n      <th>air_density</th>\n      <th>Holidays</th>\n    </tr>\n    <tr>\n      <th>time</th>\n      <th></th>\n      <th></th>\n      <th></th>\n      <th></th>\n      <th></th>\n      <th></th>\n      <th></th>\n      <th></th>\n      <th></th>\n      <th></th>\n      <th></th>\n      <th></th>\n      <th></th>\n      <th></th>\n      <th></th>\n      <th></th>\n      <th></th>\n      <th></th>\n      <th></th>\n      <th></th>\n      <th></th>\n    </tr>\n  </thead>\n  <tbody>\n    <tr>\n      <th>2015-01-01 00:00:00</th>\n      <td>447.0</td>\n      <td>329.0</td>\n      <td>4844.0</td>\n      <td>4821.0</td>\n      <td>162.0</td>\n      <td>863.0</td>\n      <td>1051.0</td>\n      <td>1899.0</td>\n      <td>7096.0</td>\n      <td>43.0</td>\n      <td>...</td>\n      <td>65.41</td>\n      <td>1.000000e-07</td>\n      <td>0.451</td>\n      <td>0.0</td>\n      <td>0.0</td>\n      <td>0.0</td>\n      <td>2.781</td>\n      <td>0.0868</td>\n      <td>11.948</td>\n      <td>1</td>\n    </tr>\n    <tr>\n      <th>2015-01-01 01:00:00</th>\n      <td>449.0</td>\n      <td>328.0</td>\n      <td>5196.0</td>\n      <td>4755.0</td>\n      <td>158.0</td>\n      <td>920.0</td>\n      <td>1009.0</td>\n      <td>1658.0</td>\n      <td>7096.0</td>\n      <td>43.0</td>\n      <td>...</td>\n      <td>64.92</td>\n      <td>2.000000e-07</td>\n      <td>0.234</td>\n      <td>0.0</td>\n      <td>0.0</td>\n      <td>0.0</td>\n      <td>2.781</td>\n      <td>0.1135</td>\n      <td>11.957</td>\n      <td>1</td>\n    </tr>\n    <tr>\n      <th>2015-01-01 02:00:00</th>\n      <td>448.0</td>\n      <td>323.0</td>\n      <td>4857.0</td>\n      <td>4581.0</td>\n      <td>157.0</td>\n      <td>1164.0</td>\n      <td>973.0</td>\n      <td>1371.0</td>\n      <td>7099.0</td>\n      <td>43.0</td>\n      <td>...</td>\n      <td>64.48</td>\n      <td>2.000000e-07</td>\n      <td>0.129</td>\n      <td>0.0</td>\n      <td>0.0</td>\n      <td>0.0</td>\n      <td>2.781</td>\n      <td>0.0127</td>\n      <td>11.965</td>\n      <td>1</td>\n    </tr>\n    <tr>\n      <th>2015-01-01 03:00:00</th>\n      <td>438.0</td>\n      <td>254.0</td>\n      <td>4314.0</td>\n      <td>4131.0</td>\n      <td>160.0</td>\n      <td>1503.0</td>\n      <td>949.0</td>\n      <td>779.0</td>\n      <td>7098.0</td>\n      <td>43.0</td>\n      <td>...</td>\n      <td>59.32</td>\n      <td>2.000000e-07</td>\n      <td>0.008</td>\n      <td>0.0</td>\n      <td>0.0</td>\n      <td>0.0</td>\n      <td>0.278</td>\n      <td>0.1154</td>\n      <td>11.971</td>\n      <td>1</td>\n    </tr>\n    <tr>\n      <th>2015-01-01 04:00:00</th>\n      <td>428.0</td>\n      <td>187.0</td>\n      <td>4130.0</td>\n      <td>3840.0</td>\n      <td>156.0</td>\n      <td>1826.0</td>\n      <td>953.0</td>\n      <td>720.0</td>\n      <td>7097.0</td>\n      <td>43.0</td>\n      <td>...</td>\n      <td>56.04</td>\n      <td>1.000000e-07</td>\n      <td>0.042</td>\n      <td>0.0</td>\n      <td>0.0</td>\n      <td>0.0</td>\n      <td>0.278</td>\n      <td>0.0984</td>\n      <td>11.978</td>\n      <td>1</td>\n    </tr>\n    <tr>\n      <th>...</th>\n      <td>...</td>\n      <td>...</td>\n      <td>...</td>\n      <td>...</td>\n      <td>...</td>\n      <td>...</td>\n      <td>...</td>\n      <td>...</td>\n      <td>...</td>\n      <td>...</td>\n      <td>...</td>\n      <td>...</td>\n      <td>...</td>\n      <td>...</td>\n      <td>...</td>\n      <td>...</td>\n      <td>...</td>\n      <td>...</td>\n      <td>...</td>\n      <td>...</td>\n      <td>...</td>\n    </tr>\n    <tr>\n      <th>2018-12-31 19:00:00</th>\n      <td>297.0</td>\n      <td>0.0</td>\n      <td>7634.0</td>\n      <td>2628.0</td>\n      <td>178.0</td>\n      <td>1.0</td>\n      <td>1135.0</td>\n      <td>4836.0</td>\n      <td>6073.0</td>\n      <td>63.0</td>\n      <td>...</td>\n      <td>77.02</td>\n      <td>0.000000e+00</td>\n      <td>6.908</td>\n      <td>0.0</td>\n      <td>0.0</td>\n      <td>0.0</td>\n      <td>0.000</td>\n      <td>0.0305</td>\n      <td>11.669</td>\n      <td>0</td>\n    </tr>\n    <tr>\n      <th>2018-12-31 20:00:00</th>\n      <td>296.0</td>\n      <td>0.0</td>\n      <td>7241.0</td>\n      <td>2566.0</td>\n      <td>174.0</td>\n      <td>1.0</td>\n      <td>1172.0</td>\n      <td>3931.0</td>\n      <td>6074.0</td>\n      <td>62.0</td>\n      <td>...</td>\n      <td>76.16</td>\n      <td>0.000000e+00</td>\n      <td>6.164</td>\n      <td>0.0</td>\n      <td>0.0</td>\n      <td>0.0</td>\n      <td>0.000</td>\n      <td>0.0338</td>\n      <td>11.692</td>\n      <td>0</td>\n    </tr>\n    <tr>\n      <th>2018-12-31 21:00:00</th>\n      <td>292.0</td>\n      <td>0.0</td>\n      <td>7025.0</td>\n      <td>2422.0</td>\n      <td>168.0</td>\n      <td>50.0</td>\n      <td>1148.0</td>\n      <td>2831.0</td>\n      <td>6076.0</td>\n      <td>61.0</td>\n      <td>...</td>\n      <td>74.30</td>\n      <td>0.000000e+00</td>\n      <td>5.575</td>\n      <td>0.0</td>\n      <td>0.0</td>\n      <td>0.0</td>\n      <td>0.000</td>\n      <td>0.0408</td>\n      <td>1.171</td>\n      <td>0</td>\n    </tr>\n    <tr>\n      <th>2018-12-31 22:00:00</th>\n      <td>293.0</td>\n      <td>0.0</td>\n      <td>6562.0</td>\n      <td>2293.0</td>\n      <td>163.0</td>\n      <td>108.0</td>\n      <td>1128.0</td>\n      <td>2068.0</td>\n      <td>6075.0</td>\n      <td>61.0</td>\n      <td>...</td>\n      <td>69.89</td>\n      <td>0.000000e+00</td>\n      <td>5.146</td>\n      <td>0.0</td>\n      <td>0.0</td>\n      <td>0.0</td>\n      <td>0.000</td>\n      <td>0.0446</td>\n      <td>11.724</td>\n      <td>0</td>\n    </tr>\n    <tr>\n      <th>2018-12-31 23:00:00</th>\n      <td>290.0</td>\n      <td>0.0</td>\n      <td>6926.0</td>\n      <td>2166.0</td>\n      <td>163.0</td>\n      <td>108.0</td>\n      <td>1069.0</td>\n      <td>1686.0</td>\n      <td>6075.0</td>\n      <td>61.0</td>\n      <td>...</td>\n      <td>69.88</td>\n      <td>0.000000e+00</td>\n      <td>4.811</td>\n      <td>0.0</td>\n      <td>0.0</td>\n      <td>0.0</td>\n      <td>0.000</td>\n      <td>0.0481</td>\n      <td>11.735</td>\n      <td>0</td>\n    </tr>\n  </tbody>\n</table>\n<p>35064 rows × 29 columns</p>\n</div>"
     },
     "execution_count": 52,
     "metadata": {},
     "output_type": "execute_result"
    }
   ],
   "source": [
    "data = pd.read_csv(py_path + \"/Forecasting_Repository/data/processed/processed_data.csv\", index_col=\"time\")\n",
    "data.index = pd.to_datetime(data.index)\n",
    "data"
   ],
   "metadata": {
    "collapsed": false,
    "pycharm": {
     "name": "#%%\n"
    }
   }
  },
  {
   "cell_type": "code",
   "execution_count": 53,
   "outputs": [
    {
     "data": {
      "text/plain": "<matplotlib.legend.Legend at 0x272dd62c850>"
     },
     "execution_count": 53,
     "metadata": {},
     "output_type": "execute_result"
    },
    {
     "data": {
      "text/plain": "<Figure size 1440x288 with 1 Axes>",
      "image/png": "[encoded data removed]"
     },
     "metadata": {
      "needs_background": "light"
     },
     "output_type": "display_data"
    }
   ],
   "source": [
    "# Split data into train-val-test\n",
    "# ==============================================================================\n",
    "end_train = \"2017-12-31 23:00:00\"\n",
    "start_validation = \"2018-01-01 00:00:00\"\n",
    "end_validation = \"2018-10-31 23:00:00\"\n",
    "start_test = \"2018-11-01 00:00:00\"\n",
    "\n",
    "data_train = data.loc[: end_train, :]  # tre anni\n",
    "data_validation = data.loc[start_validation: end_validation, :]  # dieci mesi\n",
    "data_test = data.loc[start_test:, :]  # due mesi\n",
    "\n",
    "fig, ax = plt.subplots(figsize=(20, 4))\n",
    "data_train['total load actual'].plot(ax=ax, label='train')\n",
    "data_validation['total load actual'].plot(ax=ax, label='test')\n",
    "data_test['total load actual'].plot(ax=ax, label='test')\n",
    "ax.legend()"
   ],
   "metadata": {
    "collapsed": false,
    "pycharm": {
     "name": "#%%\n"
    }
   }
  },
  {
   "cell_type": "code",
   "execution_count": 54,
   "outputs": [
    {
     "data": {
      "text/plain": "<AxesSubplot:xlabel='total load actual'>"
     },
     "execution_count": 54,
     "metadata": {},
     "output_type": "execute_result"
    },
    {
     "data": {
      "text/plain": "<Figure size 432x288 with 1 Axes>",
      "image/png": "[encoded data removed]"
     },
     "metadata": {
      "needs_background": "light"
     },
     "output_type": "display_data"
    }
   ],
   "source": [
    "sn.boxplot(data[\"total load actual\"])"
   ],
   "metadata": {
    "collapsed": false,
    "pycharm": {
     "name": "#%%\n"
    }
   }
  },
  {
   "cell_type": "markdown",
   "source": [
    "Non si notano outliers quindi l'eventuale scalatura dei dati può corrispondere a un semplice StandardScaler()"
   ],
   "metadata": {
    "collapsed": false,
    "pycharm": {
     "name": "#%% md\n"
    }
   }
  },
  {
   "cell_type": "markdown",
   "source": [
    "---\n",
    "---\n",
    "## 2. MODELLING\n",
    "Dato che non è stata riscontrata la presenza di un *trend* inizio l'analisi con un semplice modello AR"
   ],
   "metadata": {
    "collapsed": false,
    "pycharm": {
     "name": "#%% md\n"
    }
   }
  },
  {
   "cell_type": "markdown",
   "source": [
    "---\n",
    "### 2.1 AR model\n",
    "Dati i valori del PACF per la variabile total load actual assegno un p = 24 che corrisponde a 24 ore\n",
    "Probabilmente sarà necessaria l'aggiunta di variabili dummy e della componente stagionale settimanale / giornaliera"
   ],
   "metadata": {
    "collapsed": false,
    "pycharm": {
     "name": "#%% md\n"
    }
   }
  },
  {
   "cell_type": "code",
   "execution_count": 55,
   "outputs": [
    {
     "ename": "KeyboardInterrupt",
     "evalue": "",
     "output_type": "error",
     "traceback": [
      "\u001B[1;31m---------------------------------------------------------------------------\u001B[0m",
      "\u001B[1;31mKeyboardInterrupt\u001B[0m                         Traceback (most recent call last)",
      "Input \u001B[1;32mIn [55]\u001B[0m, in \u001B[0;36m<cell line: 8>\u001B[1;34m()\u001B[0m\n\u001B[0;32m      1\u001B[0m \u001B[38;5;66;03m# Create and train forecaster\u001B[39;00m\n\u001B[0;32m      2\u001B[0m \u001B[38;5;66;03m# ==============================================================================\u001B[39;00m\n\u001B[0;32m      3\u001B[0m forecaster \u001B[38;5;241m=\u001B[39m ForecasterAutoreg(\n\u001B[0;32m      4\u001B[0m     regressor\u001B[38;5;241m=\u001B[39mmake_pipeline(StandardScaler(), Ridge()),\n\u001B[0;32m      5\u001B[0m     lags\u001B[38;5;241m=\u001B[39m\u001B[38;5;241m24\u001B[39m  \u001B[38;5;66;03m# lag di un giorno\u001B[39;00m\n\u001B[0;32m      6\u001B[0m )\n\u001B[1;32m----> 8\u001B[0m \u001B[43mforecaster\u001B[49m\u001B[38;5;241;43m.\u001B[39;49m\u001B[43mfit\u001B[49m\u001B[43m(\u001B[49m\u001B[43my\u001B[49m\u001B[38;5;241;43m=\u001B[39;49m\u001B[43mdata\u001B[49m\u001B[38;5;241;43m.\u001B[39;49m\u001B[43mloc\u001B[49m\u001B[43m[\u001B[49m\u001B[43m:\u001B[49m\u001B[43mend_validation\u001B[49m\u001B[43m,\u001B[49m\u001B[43m \u001B[49m\u001B[38;5;124;43m'\u001B[39;49m\u001B[38;5;124;43mtotal load actual\u001B[39;49m\u001B[38;5;124;43m'\u001B[39;49m\u001B[43m]\u001B[49m\u001B[43m)\u001B[49m\n\u001B[0;32m      9\u001B[0m forecaster\n",
      "File \u001B[1;32m~\\AppData\\Local\\Programs\\Python\\Python39\\lib\\site-packages\\skforecast\\ForecasterAutoreg\\ForecasterAutoreg.py:345\u001B[0m, in \u001B[0;36mForecasterAutoreg.fit\u001B[1;34m(self, y, exog)\u001B[0m\n\u001B[0;32m    341\u001B[0m     \u001B[38;5;28mself\u001B[39m\u001B[38;5;241m.\u001B[39mexog_type \u001B[38;5;241m=\u001B[39m \u001B[38;5;28mtype\u001B[39m(exog)\n\u001B[0;32m    342\u001B[0m     \u001B[38;5;28mself\u001B[39m\u001B[38;5;241m.\u001B[39mexog_col_names \u001B[38;5;241m=\u001B[39m \\\n\u001B[0;32m    343\u001B[0m          exog\u001B[38;5;241m.\u001B[39mcolumns\u001B[38;5;241m.\u001B[39mto_list() \u001B[38;5;28;01mif\u001B[39;00m \u001B[38;5;28misinstance\u001B[39m(exog, pd\u001B[38;5;241m.\u001B[39mDataFrame) \u001B[38;5;28;01melse\u001B[39;00m exog\u001B[38;5;241m.\u001B[39mname\n\u001B[1;32m--> 345\u001B[0m X_train, y_train \u001B[38;5;241m=\u001B[39m \u001B[38;5;28;43mself\u001B[39;49m\u001B[38;5;241;43m.\u001B[39;49m\u001B[43mcreate_train_X_y\u001B[49m\u001B[43m(\u001B[49m\u001B[43my\u001B[49m\u001B[38;5;241;43m=\u001B[39;49m\u001B[43my\u001B[49m\u001B[43m,\u001B[49m\u001B[43m \u001B[49m\u001B[43mexog\u001B[49m\u001B[38;5;241;43m=\u001B[39;49m\u001B[43mexog\u001B[49m\u001B[43m)\u001B[49m\n\u001B[0;32m    347\u001B[0m \u001B[38;5;28;01mif\u001B[39;00m \u001B[38;5;129;01mnot\u001B[39;00m \u001B[38;5;28mstr\u001B[39m(\u001B[38;5;28mtype\u001B[39m(\u001B[38;5;28mself\u001B[39m\u001B[38;5;241m.\u001B[39mregressor)) \u001B[38;5;241m==\u001B[39m \u001B[38;5;124m\"\u001B[39m\u001B[38;5;124m<class \u001B[39m\u001B[38;5;124m'\u001B[39m\u001B[38;5;124mxgboost.sklearn.XGBRegressor\u001B[39m\u001B[38;5;124m'\u001B[39m\u001B[38;5;124m>\u001B[39m\u001B[38;5;124m\"\u001B[39m:\n\u001B[0;32m    348\u001B[0m     \u001B[38;5;28mself\u001B[39m\u001B[38;5;241m.\u001B[39mregressor\u001B[38;5;241m.\u001B[39mfit(X\u001B[38;5;241m=\u001B[39mX_train, y\u001B[38;5;241m=\u001B[39my_train)\n",
      "File \u001B[1;32m~\\AppData\\Local\\Programs\\Python\\Python39\\lib\\site-packages\\skforecast\\ForecasterAutoreg\\ForecasterAutoreg.py:278\u001B[0m, in \u001B[0;36mForecasterAutoreg.create_train_X_y\u001B[1;34m(self, y, exog)\u001B[0m\n\u001B[0;32m    272\u001B[0m     \u001B[38;5;28;01mif\u001B[39;00m \u001B[38;5;129;01mnot\u001B[39;00m (exog_index[:\u001B[38;5;28mlen\u001B[39m(y_index)] \u001B[38;5;241m==\u001B[39m y_index)\u001B[38;5;241m.\u001B[39mall():\n\u001B[0;32m    273\u001B[0m         \u001B[38;5;28;01mraise\u001B[39;00m \u001B[38;5;167;01mException\u001B[39;00m(\n\u001B[0;32m    274\u001B[0m         (\u001B[38;5;124m'\u001B[39m\u001B[38;5;124mDifferent index for `y` and `exog`. They must be equal \u001B[39m\u001B[38;5;124m'\u001B[39m\n\u001B[0;32m    275\u001B[0m         \u001B[38;5;124m'\u001B[39m\u001B[38;5;124mto ensure the correct alignment of values.\u001B[39m\u001B[38;5;124m'\u001B[39m)      \n\u001B[0;32m    276\u001B[0m         )\n\u001B[1;32m--> 278\u001B[0m X_train, y_train \u001B[38;5;241m=\u001B[39m \u001B[38;5;28;43mself\u001B[39;49m\u001B[38;5;241;43m.\u001B[39;49m\u001B[43m_create_lags\u001B[49m\u001B[43m(\u001B[49m\u001B[43my\u001B[49m\u001B[38;5;241;43m=\u001B[39;49m\u001B[43my_values\u001B[49m\u001B[43m)\u001B[49m\n\u001B[0;32m    279\u001B[0m X_train_col_names \u001B[38;5;241m=\u001B[39m [\u001B[38;5;124mf\u001B[39m\u001B[38;5;124m\"\u001B[39m\u001B[38;5;124mlag_\u001B[39m\u001B[38;5;132;01m{\u001B[39;00mi\u001B[38;5;132;01m}\u001B[39;00m\u001B[38;5;124m\"\u001B[39m \u001B[38;5;28;01mfor\u001B[39;00m i \u001B[38;5;129;01min\u001B[39;00m \u001B[38;5;28mself\u001B[39m\u001B[38;5;241m.\u001B[39mlags]\n\u001B[0;32m    280\u001B[0m \u001B[38;5;28;01mif\u001B[39;00m exog \u001B[38;5;129;01mis\u001B[39;00m \u001B[38;5;129;01mnot\u001B[39;00m \u001B[38;5;28;01mNone\u001B[39;00m:\n",
      "File \u001B[1;32m~\\AppData\\Local\\Programs\\Python\\Python39\\lib\\site-packages\\skforecast\\ForecasterAutoreg\\ForecasterAutoreg.py:225\u001B[0m, in \u001B[0;36mForecasterAutoreg._create_lags\u001B[1;34m(self, y)\u001B[0m\n\u001B[0;32m    223\u001B[0m     X_index \u001B[38;5;241m=\u001B[39m np\u001B[38;5;241m.\u001B[39marange(i, \u001B[38;5;28mself\u001B[39m\u001B[38;5;241m.\u001B[39mmax_lag \u001B[38;5;241m+\u001B[39m i)\n\u001B[0;32m    224\u001B[0m     y_index \u001B[38;5;241m=\u001B[39m [\u001B[38;5;28mself\u001B[39m\u001B[38;5;241m.\u001B[39mmax_lag \u001B[38;5;241m+\u001B[39m i]\n\u001B[1;32m--> 225\u001B[0m     X_data[i, :] \u001B[38;5;241m=\u001B[39m \u001B[43my\u001B[49m\u001B[43m[\u001B[49m\u001B[43mX_index\u001B[49m\u001B[43m]\u001B[49m\n\u001B[0;32m    226\u001B[0m     y_data[i]    \u001B[38;5;241m=\u001B[39m y[y_index]\n\u001B[0;32m    228\u001B[0m X_data \u001B[38;5;241m=\u001B[39m X_data[:, \u001B[38;5;241m-\u001B[39m\u001B[38;5;28mself\u001B[39m\u001B[38;5;241m.\u001B[39mlags] \u001B[38;5;66;03m# Only keep needed lags\u001B[39;00m\n",
      "\u001B[1;31mKeyboardInterrupt\u001B[0m: "
     ]
    }
   ],
   "source": [
    "# Create and train forecaster\n",
    "# ==============================================================================\n",
    "forecaster = ForecasterAutoreg(\n",
    "    regressor=make_pipeline(StandardScaler(), Ridge()),\n",
    "    lags=24  # lag di un giorno\n",
    ")\n",
    "\n",
    "forecaster.fit(y=data.loc[:end_validation, 'total load actual'])\n",
    "forecaster"
   ],
   "metadata": {
    "collapsed": false,
    "pycharm": {
     "name": "#%%\n"
    }
   }
  },
  {
   "cell_type": "code",
   "execution_count": null,
   "outputs": [],
   "source": [
    "# Backtest\n",
    "# ==============================================================================\n",
    "metric, predictions = backtesting_forecaster(forecaster=forecaster,\n",
    "                                             y=data['total load actual'],\n",
    "                                             initial_train_size=len(data.loc[:end_validation]),\n",
    "                                             fixed_train_size=False,\n",
    "                                             steps=24,\n",
    "                                             metric='mean_absolute_error',\n",
    "                                             refit=True,\n",
    "                                             verbose=True)\n",
    "\n",
    "print(f'Backtest error: {metric}')"
   ],
   "metadata": {
    "collapsed": false,
    "pycharm": {
     "name": "#%%\n"
    }
   }
  },
  {
   "cell_type": "code",
   "execution_count": null,
   "outputs": [],
   "source": [
    "# Hyperparameter Grid search\n",
    "# ==============================================================================\n",
    "forecaster = ForecasterAutoreg(\n",
    "    regressor=make_pipeline(StandardScaler(), Ridge()),\n",
    "    lags=24  # This value will be replaced in the grid search\n",
    ")\n",
    "\n",
    "# Lags used as predictors\n",
    "lags_grid = [5, 24, [1, 2, 3, 23, 24, 25, 47, 48, 49]]\n",
    "\n",
    "# Regressor's hyperparameters\n",
    "param_grid = {'ridge__alpha': np.logspace(-3, 5, 10)}\n",
    "\n",
    "results_grid = grid_search_forecaster(forecaster=forecaster,\n",
    "                                      y=data.loc[:end_validation, 'total load actual'],\n",
    "                                      param_grid=param_grid,\n",
    "                                      lags_grid=lags_grid,\n",
    "                                      steps=24,\n",
    "                                      metric='mean_absolute_error',\n",
    "                                      refit=False,\n",
    "                                      initial_train_size=len(data[:end_train]),\n",
    "                                      fixed_train_size=False,\n",
    "                                      return_best=True,\n",
    "                                      verbose=False)"
   ],
   "metadata": {
    "collapsed": false,
    "pycharm": {
     "name": "#%%\n"
    }
   }
  },
  {
   "cell_type": "code",
   "execution_count": null,
   "outputs": [],
   "source": [
    "results_grid"
   ],
   "metadata": {
    "collapsed": false,
    "pycharm": {
     "name": "#%%\n"
    }
   }
  },
  {
   "cell_type": "markdown",
   "source": [
    "Il miglior modello risulta essere quello che considera i lags [1, 2, 3, 23, 24, 25, 47, 48, 49] e utilizza un alpha pari a 0.001 per la Ridge regression"
   ],
   "metadata": {
    "collapsed": false,
    "pycharm": {
     "name": "#%% md\n"
    }
   }
  },
  {
   "cell_type": "code",
   "execution_count": null,
   "outputs": [],
   "source": [
    "# Modello restituito dalla Grid-Search\n",
    "forecaster"
   ],
   "metadata": {
    "collapsed": false,
    "pycharm": {
     "name": "#%%\n"
    }
   }
  },
  {
   "cell_type": "code",
   "execution_count": null,
   "outputs": [],
   "source": [
    "# Backtest final model\n",
    "# ==============================================================================\n",
    "\"\"\" MAE metric \"\"\"\n",
    "\n",
    "mae, predictions = backtesting_forecaster(forecaster=forecaster,  # forecaster fatto dalla best grid\n",
    "                                          y=data['total load actual'],\n",
    "                                          initial_train_size=len(data[:end_validation]),\n",
    "                                          fixed_train_size=False,\n",
    "                                          steps=24,\n",
    "                                          metric='mean_absolute_error',\n",
    "                                          refit=True,\n",
    "                                          verbose=False\n",
    "                                          )\n",
    "\n",
    "# Test error\n",
    "# ==============================================================================\n",
    "mape = mean_absolute_percentage_error(\n",
    "                y_true = data_test['total load actual'][:1488],\n",
    "                y_pred = predictions\n",
    "            )\n",
    "\n",
    "print(f\"Test error (mape): {mape}\")\n",
    "print(f\"Test error (mae): {mae}\")"
   ],
   "metadata": {
    "collapsed": false,
    "pycharm": {
     "name": "#%%\n"
    }
   }
  },
  {
   "cell_type": "markdown",
   "source": [
    "I risultati non sono male."
   ],
   "metadata": {
    "collapsed": false,
    "pycharm": {
     "name": "#%% md\n"
    }
   }
  },
  {
   "cell_type": "code",
   "execution_count": null,
   "outputs": [],
   "source": [
    "predictions.index"
   ],
   "metadata": {
    "collapsed": false,
    "pycharm": {
     "name": "#%%\n"
    }
   }
  },
  {
   "cell_type": "code",
   "execution_count": null,
   "outputs": [],
   "source": [
    "# Fix prediction dataframe\n",
    "predictions = predictions.assign(time=data[start_test:].index)\n",
    "predictions = predictions.set_index(\"time\")\n",
    "predictions"
   ],
   "metadata": {
    "collapsed": false,
    "pycharm": {
     "name": "#%%\n"
    }
   }
  },
  {
   "cell_type": "code",
   "execution_count": null,
   "outputs": [],
   "source": [
    "month_before_data = data.index[len(data) - len(predictions) * 2 + 24:len(data) - len(predictions)]  # date dal 1 novembre al 31 dicembre"
   ],
   "metadata": {
    "collapsed": false,
    "pycharm": {
     "name": "#%%\n"
    }
   }
  },
  {
   "cell_type": "code",
   "execution_count": null,
   "outputs": [],
   "source": [
    "fig, ax = plt.subplots(figsize=(30, 3))\n",
    "data['total load actual'][month_before_data].plot(linewidth=2, ax=ax, label=\"month_before_data\")  # 1 month before\n",
    "data['total load actual'][min(predictions.index):max(predictions.index)].plot(linewidth=2, ax=ax, label=\"real\")  # real\n",
    "predictions['pred'].plot(linewidth=2, ax=ax, label=\"predictions\")  # predicted\n",
    "ax.set_title('Prediction vs real demand')\n",
    "plt.legend([\"1 month before\", \"real values\", \"predicted\"])"
   ],
   "metadata": {
    "collapsed": false,
    "pycharm": {
     "name": "#%%\n"
    }
   }
  },
  {
   "cell_type": "markdown",
   "source": [
    "---\n",
    "### 2.2 Analisi dei residui\n",
    "Dato che nella costruzione del modello AR si suppone che gli **errori** si distribuiscano come una **normale** e che questi abbiano una **varianza costante**, è fondamentale fare delle analisi che ci permettano di accertare queste due ipotesi in modo da poter verificare l'attendibilità dei risultati."
   ],
   "metadata": {
    "collapsed": false,
    "pycharm": {
     "name": "#%% md\n"
    }
   }
  },
  {
   "cell_type": "code",
   "execution_count": null,
   "outputs": [],
   "source": [
    "predictions"
   ],
   "metadata": {
    "collapsed": false,
    "pycharm": {
     "name": "#%%\n"
    }
   }
  },
  {
   "cell_type": "markdown",
   "source": [
    "Identifichiamo i residui e aggiungiamoli al dataframe contenente le previsioni"
   ],
   "metadata": {
    "collapsed": false,
    "pycharm": {
     "name": "#%% md\n"
    }
   }
  },
  {
   "cell_type": "code",
   "execution_count": null,
   "outputs": [],
   "source": [
    "residuals = []\n",
    "for ind in predictions[\"pred\"].index:\n",
    "    predicted_value = predictions['pred'][ind]\n",
    "    real_value = data['total load actual'][ind]\n",
    "    residuals.append(predicted_value - real_value)\n",
    "\n",
    "print(residuals[:10])"
   ],
   "metadata": {
    "collapsed": false,
    "pycharm": {
     "name": "#%%\n"
    }
   }
  },
  {
   "cell_type": "code",
   "execution_count": null,
   "outputs": [],
   "source": [
    "# Aggiunta colonna al dataframe con le previsioni\n",
    "predictions[\"residuals\"] = residuals\n",
    "predictions"
   ],
   "metadata": {
    "collapsed": false,
    "pycharm": {
     "name": "#%%\n"
    }
   }
  },
  {
   "cell_type": "markdown",
   "source": [
    "#### 2.2.1 Distribuzione dei residui"
   ],
   "metadata": {
    "collapsed": false,
    "pycharm": {
     "name": "#%% md\n"
    }
   }
  },
  {
   "cell_type": "code",
   "execution_count": null,
   "outputs": [],
   "source": [
    "fig, ax = plt.subplots(figsize=(20, 5))\n",
    "sn.histplot(data=predictions, x=\"residuals\", kde=True)\n",
    "plt.title(\"Residual distribution\")"
   ],
   "metadata": {
    "collapsed": false,
    "pycharm": {
     "name": "#%%\n"
    }
   }
  },
  {
   "cell_type": "markdown",
   "source": [
    "I residui si distribuiscono come una normale"
   ],
   "metadata": {
    "collapsed": false,
    "pycharm": {
     "name": "#%% md\n"
    }
   }
  },
  {
   "cell_type": "markdown",
   "source": [
    "#### 2.2.2 Test per eteroschedasticità"
   ],
   "metadata": {
    "collapsed": false,
    "pycharm": {
     "name": "#%% md\n"
    }
   }
  },
  {
   "cell_type": "code",
   "execution_count": null,
   "outputs": [],
   "source": [
    "g = sn.lmplot(data=predictions, x=\"pred\", y=\"residuals\", height=5, aspect=5, order=2)\n",
    "\n",
    "g.axes[0][0].axhline(y=0, ls = \"--\", alpha=0.4)\n",
    "\n",
    "plt.title(\"Residuals Vs Predicted Values\")\n",
    "plt.show()"
   ],
   "metadata": {
    "collapsed": false,
    "pycharm": {
     "name": "#%%\n"
    }
   }
  },
  {
   "cell_type": "markdown",
   "source": [
    "L'andamento è lineare. E' bene però fare un test per accertarsi dell'entità dell' eteroschedasticità(varianza non costante nei termini di errore)"
   ],
   "metadata": {
    "collapsed": false,
    "pycharm": {
     "name": "#%% md\n"
    }
   }
  },
  {
   "cell_type": "code",
   "execution_count": null,
   "outputs": [],
   "source": [
    "def test_model(col):\n",
    "    final_array = []\n",
    "    for value in col:\n",
    "        a = [1, value]\n",
    "        final_array.append(a)\n",
    "    return np.array(final_array)\n",
    "\n",
    "model = test_model(data_test[\"total load actual\"])  # array dei valori reali di Y"
   ],
   "metadata": {
    "collapsed": false,
    "pycharm": {
     "name": "#%%\n"
    }
   }
  },
  {
   "cell_type": "code",
   "execution_count": null,
   "outputs": [],
   "source": [
    "# Breusch-Pagan Lagrange Multiplier test for heteroscedasticity\n",
    "# ==============================================================================\n",
    "\"\"\" It tests the hypothesis that the residual variance does not depend on the variables in x in the form \"\"\"\n",
    "\n",
    "bp_test = het_breuschpagan(predictions[\"residuals\"], model)\n",
    "\n",
    "print(f\"LM-test p_value: {bp_test[1]}\")"
   ],
   "metadata": {
    "collapsed": false,
    "pycharm": {
     "name": "#%%\n"
    }
   }
  },
  {
   "cell_type": "markdown",
   "source": [
    "Il valore del P value è molto basso. In questo caso, rifiutiamo l'ipotesi nulla quindi è presente eteroschedasticità.\n",
    "Proviamo a scalare la y tramite una radice quadrata, questo dovrebbe ridurre il peso delle osservazioni con valori estremi riducendo quindi l'impatto dei loro residui nella distribuzione."
   ],
   "metadata": {
    "collapsed": false,
    "pycharm": {
     "name": "#%% md\n"
    }
   }
  },
  {
   "cell_type": "markdown",
   "source": [
    "### 2.3 Abbattimento eteroschedasticità"
   ],
   "metadata": {
    "collapsed": false,
    "pycharm": {
     "name": "#%% md\n"
    }
   }
  },
  {
   "cell_type": "code",
   "execution_count": null,
   "outputs": [],
   "source": [
    "# Hyperparameter Grid search\n",
    "# ==============================================================================\n",
    "forecaster = ForecasterAutoreg(\n",
    "    regressor=make_pipeline(StandardScaler(), Ridge()),\n",
    "    lags=24  # This value will be replaced in the grid search\n",
    ")\n",
    "\n",
    "# Lags used as predictors\n",
    "lags_grid = [5, 24, [1, 2, 3, 23, 24, 25, 47, 48, 49]]\n",
    "\n",
    "# Regressor's hyperparameters\n",
    "param_grid = {'ridge__alpha': np.logspace(-3, 5, 10)}\n",
    "\n",
    "results_grid = grid_search_forecaster(forecaster=forecaster,\n",
    "                                      y=np.sqrt(data.loc[:end_validation, 'total load actual']),\n",
    "                                      param_grid=param_grid,\n",
    "                                      lags_grid=lags_grid,\n",
    "                                      steps=24,\n",
    "                                      metric='mean_absolute_error',\n",
    "                                      refit=False,\n",
    "                                      initial_train_size=len(data[:end_train]),\n",
    "                                      fixed_train_size=False,\n",
    "                                      return_best=True,\n",
    "                                      verbose=False)\n",
    "\n",
    "# Backtest final model\n",
    "# ==============================================================================\n",
    "\"\"\" MAE metric \"\"\"\n",
    "\n",
    "mae, predictions = backtesting_forecaster(forecaster=forecaster,  # forecaster fatto dalla best grid\n",
    "                                          y=np.sqrt(data['total load actual']),\n",
    "                                          initial_train_size=len(data[:end_validation]),\n",
    "                                          fixed_train_size=False,\n",
    "                                          steps=24,\n",
    "                                          metric='mean_absolute_error',\n",
    "                                          refit=True,\n",
    "                                          verbose=False\n",
    "                                          )\n",
    "\n",
    "# Test error\n",
    "# ==============================================================================\n",
    "mape = mean_absolute_percentage_error(\n",
    "                y_true = np.sqrt(data_test['total load actual'][:1488]),\n",
    "                y_pred = predictions\n",
    "            )\n",
    "\n",
    "print(f\"Test error (mape): {mape}\")\n",
    "print(f\"Test error (mae): {mae}\")"
   ],
   "metadata": {
    "collapsed": false,
    "pycharm": {
     "name": "#%%\n"
    }
   }
  },
  {
   "cell_type": "code",
   "execution_count": null,
   "outputs": [],
   "source": [
    "# Fix prediction dataframe\n",
    "predictions = predictions.assign(time=data[start_test:].index)\n",
    "predictions = predictions.set_index(\"time\")\n",
    "predictions"
   ],
   "metadata": {
    "collapsed": false,
    "pycharm": {
     "name": "#%%\n"
    }
   }
  },
  {
   "cell_type": "code",
   "execution_count": null,
   "outputs": [],
   "source": [
    "# Plot risultati\n",
    "fig, ax = plt.subplots(figsize=(30, 2.5))\n",
    "np.sqrt(data['total load actual'][month_before_data]).plot(linewidth=2, ax=ax, label=\"month_before_data\")  # 1 month before\n",
    "np.sqrt(data['total load actual'][min(predictions.index):max(predictions.index)]).plot(linewidth=2, ax=ax, label=\"real\")  # real\n",
    "predictions['pred'].plot(linewidth=2, ax=ax, label=\"predictions\")  # predicted\n",
    "ax.set_title('Prediction vs real demand')\n",
    "plt.legend([\"1 month before\", \"real values\", \"predicted\"])"
   ],
   "metadata": {
    "collapsed": false,
    "pycharm": {
     "name": "#%%\n"
    }
   }
  },
  {
   "cell_type": "code",
   "execution_count": null,
   "outputs": [],
   "source": [
    "# Calcolo residui\n",
    "residuals = []\n",
    "for ind in predictions[\"pred\"].index:\n",
    "    predicted_value = predictions['pred'][ind]\n",
    "    real_value = np.sqrt(data['total load actual'][ind])\n",
    "    residuals.append(predicted_value - real_value)\n",
    "\n",
    "# Aggiunta colonna al dataframe con le previsioni\n",
    "predictions[\"residuals\"] = residuals\n",
    "predictions"
   ],
   "metadata": {
    "collapsed": false,
    "pycharm": {
     "name": "#%%\n"
    }
   }
  },
  {
   "cell_type": "markdown",
   "source": [
    "#### 2.3.1 Test per eteroschedasticità"
   ],
   "metadata": {
    "collapsed": false,
    "pycharm": {
     "name": "#%% md\n"
    }
   }
  },
  {
   "cell_type": "code",
   "execution_count": null,
   "outputs": [],
   "source": [
    "g = sn.lmplot(data=predictions, x=\"pred\", y=\"residuals\", height=5, aspect=5, order=2)\n",
    "\n",
    "g.axes[0][0].axhline(y=0, ls = \"--\", alpha=0.4)\n",
    "\n",
    "plt.title(\"Residuals Vs Predicted Values\")\n",
    "plt.show()"
   ],
   "metadata": {
    "collapsed": false,
    "pycharm": {
     "name": "#%%\n"
    }
   }
  },
  {
   "cell_type": "code",
   "execution_count": null,
   "outputs": [],
   "source": [
    "def test_model(col):\n",
    "    final_array = []\n",
    "    for value in col:\n",
    "        a = [1, value]\n",
    "        final_array.append(a)\n",
    "    return np.array(final_array)\n",
    "\n",
    "model = test_model(np.sqrt(data_test[\"total load actual\"]))  # array dei valori reali di Y"
   ],
   "metadata": {
    "collapsed": false,
    "pycharm": {
     "name": "#%%\n"
    }
   }
  },
  {
   "cell_type": "code",
   "execution_count": null,
   "outputs": [],
   "source": [
    "# Breusch-Pagan Lagrange Multiplier test for heteroscedasticity\n",
    "# ==============================================================================\n",
    "\"\"\" It tests the hypothesis that the residual variance does not depend on the variables in x in the form \"\"\"\n",
    "\n",
    "bp_test = het_breuschpagan(predictions[\"residuals\"], model)\n",
    "\n",
    "print(f\"LM-test p_value: {bp_test[1]}\")"
   ],
   "metadata": {
    "collapsed": false,
    "pycharm": {
     "name": "#%%\n"
    }
   }
  },
  {
   "cell_type": "markdown",
   "source": [
    "**Eteroschedasticità eliminata**"
   ],
   "metadata": {
    "collapsed": false,
    "pycharm": {
     "name": "#%% md\n"
    }
   }
  },
  {
   "cell_type": "markdown",
   "source": [
    "##### Dall'analisi dei residui possiamo confermare le ipotesi di base di un modello AR riguardo gli errori e di conseguenza anche la veridicità dei risultati dello stesso."
   ],
   "metadata": {
    "collapsed": false,
    "pycharm": {
     "name": "#%% md\n"
    }
   }
  },
  {
   "cell_type": "markdown",
   "source": [
    "---\n",
    "### 2.3 AR aggiungendo variabili esogene"
   ],
   "metadata": {
    "collapsed": false,
    "pycharm": {
     "name": "#%% md\n"
    }
   }
  },
  {
   "cell_type": "code",
   "execution_count": null,
   "outputs": [],
   "source": [
    "data.iloc[:, 20:]"
   ],
   "metadata": {
    "collapsed": false,
    "pycharm": {
     "name": "#%%\n"
    }
   }
  },
  {
   "cell_type": "code",
   "execution_count": null,
   "outputs": [],
   "source": [
    "from sklearn.ensemble import RandomForestRegressor\n",
    "\n",
    "forecaster = ForecasterAutoreg(\n",
    "    regressor=make_pipeline(StandardScaler(), Ridge()),\n",
    "    lags=24  # This value will be replaced in the grid search\n",
    ")\n",
    "\n",
    "# Lags used as predictors\n",
    "lags_grid = [5, 24, [1, 2, 3, 23, 24, 25, 47, 48, 49]]\n",
    "\n",
    "# Regressor's hyperparameters\n",
    "param_grid = {'ridge__alpha': np.logspace(-3, 5, 10)}\n",
    "\n",
    "results_grid = grid_search_forecaster(\n",
    "                                      forecaster         = forecaster,\n",
    "                                      y                  = data.loc[:end_validation, 'total load actual'],\n",
    "                                      exog               = data.iloc[:, 20:][:end_validation],  # variabili meteorologiche\n",
    "                                      param_grid         = param_grid,\n",
    "                                      lags_grid          = lags_grid,\n",
    "                                      steps              = 744,  # un mese in ore\n",
    "                                      metric             = 'mean_absolute_error',\n",
    "                                      refit              = True,\n",
    "                                      initial_train_size = len(data[:end_train]),\n",
    "                                      fixed_train_size   = False,\n",
    "                                      return_best        = True,\n",
    "                                      verbose            = False)\n",
    "\n",
    "# Backtest final model\n",
    "# ==============================================================================\n",
    "\"\"\" MAE metric \"\"\"\n",
    "\n",
    "mae, predictions = backtesting_forecaster(forecaster=forecaster,  # forecaster fatto dalla best grid\n",
    "                                          y=data['total load actual'],\n",
    "                                          exog=data.iloc[:, 20:],\n",
    "                                          initial_train_size=len(data[:end_validation]),\n",
    "                                          fixed_train_size=False,\n",
    "                                          steps=744,\n",
    "                                          metric='mean_absolute_error',\n",
    "                                          refit=True,\n",
    "                                          verbose=False\n",
    "                                          )\n",
    "\n",
    "# Test error\n",
    "# ==============================================================================\n",
    "mape = mean_absolute_percentage_error(\n",
    "                y_true = data_test['total load actual'][:744],\n",
    "                y_pred = predictions\n",
    "            )\n",
    "\n",
    "print(f\"Test error (mape): {mape}\")\n",
    "print(f\"Test error (mae): {mae}\")"
   ],
   "metadata": {
    "collapsed": false,
    "pycharm": {
     "name": "#%%\n"
    }
   }
  },
  {
   "cell_type": "markdown",
   "source": [
    "**I risultati sono peggiorati.**\n",
    "C'è comunque da considerare il fatto che stiamo usando un AR e non stiamo tenendo conto della stagionalità"
   ],
   "metadata": {
    "collapsed": false,
    "pycharm": {
     "name": "#%% md\n"
    }
   }
  },
  {
   "cell_type": "code",
   "execution_count": null,
   "outputs": [],
   "source": [
    "predictions"
   ],
   "metadata": {
    "collapsed": false,
    "pycharm": {
     "name": "#%%\n"
    }
   }
  },
  {
   "cell_type": "code",
   "execution_count": null,
   "outputs": [],
   "source": [
    "predictions = predictions.assign(time=data.index[len(data) - len(predictions):])\n",
    "predictions.set_index(\"time\", inplace=True)\n",
    "predictions"
   ],
   "metadata": {
    "collapsed": false,
    "pycharm": {
     "name": "#%%\n"
    }
   }
  },
  {
   "cell_type": "code",
   "execution_count": null,
   "outputs": [],
   "source": [
    "residuals = []\n",
    "for ind in predictions[\"pred\"].index:\n",
    "    predicted_value = predictions['pred'][ind]\n",
    "    real_value = data['total load actual'][ind]\n",
    "    residuals.append(predicted_value - real_value)\n",
    "\n",
    "print(residuals[:10])"
   ],
   "metadata": {
    "collapsed": false,
    "pycharm": {
     "name": "#%%\n"
    }
   }
  },
  {
   "cell_type": "code",
   "execution_count": null,
   "outputs": [],
   "source": [
    "# Aggiunta colonna al dataframe con le previsioni\n",
    "predictions[\"residuals\"] = residuals\n",
    "predictions"
   ],
   "metadata": {
    "collapsed": false,
    "pycharm": {
     "name": "#%%\n"
    }
   }
  },
  {
   "cell_type": "code",
   "execution_count": null,
   "outputs": [],
   "source": [
    "# Test error\n",
    "# ==============================================================================\n",
    "mape = mean_absolute_percentage_error(\n",
    "                y_true = data_test['total load actual'][:744],\n",
    "                y_pred = predictions[\"pred\"]\n",
    "            )\n",
    "\n",
    "print(f\"MAE: {mae}\\nMAPE: {mape}\")"
   ],
   "metadata": {
    "collapsed": false,
    "pycharm": {
     "name": "#%%\n"
    }
   }
  },
  {
   "cell_type": "code",
   "execution_count": null,
   "outputs": [],
   "source": [
    "fig, ax = plt.subplots(figsize=(30, 3))\n",
    "data['total load actual'][month_before_data].plot(linewidth=2, ax=ax, label=\"month_before_data\")  # 1 month before\n",
    "data['total load actual'][min(predictions.index):max(predictions.index)].plot(linewidth=2, ax=ax, label=\"real\")  # real\n",
    "predictions['pred'].plot(linewidth=2, ax=ax, label=\"predictions\")  # predicted\n",
    "ax.set_title('Prediction vs real demand')\n",
    "plt.legend([\"1 month before\", \"real values\", \"predicted\"])"
   ],
   "metadata": {
    "collapsed": false,
    "pycharm": {
     "name": "#%%\n"
    }
   }
  },
  {
   "cell_type": "markdown",
   "source": [
    "Anche il grafico mostra il netto peggioramento"
   ],
   "metadata": {
    "collapsed": false,
    "pycharm": {
     "name": "#%% md\n"
    }
   }
  },
  {
   "cell_type": "markdown",
   "source": [
    "#### Analizziamo i residui"
   ],
   "metadata": {
    "collapsed": false,
    "pycharm": {
     "name": "#%% md\n"
    }
   }
  },
  {
   "cell_type": "code",
   "execution_count": null,
   "outputs": [],
   "source": [
    "fig, ax = plt.subplots(figsize=(20, 5))\n",
    "sn.histplot(data=predictions, x=\"residuals\", kde=True)\n",
    "plt.title(\"Residual distribution\")"
   ],
   "metadata": {
    "collapsed": false,
    "pycharm": {
     "name": "#%%\n"
    }
   }
  },
  {
   "cell_type": "markdown",
   "source": [
    "Distribuzione degli errori non buona"
   ],
   "metadata": {
    "collapsed": false,
    "pycharm": {
     "name": "#%% md\n"
    }
   }
  },
  {
   "cell_type": "code",
   "execution_count": null,
   "outputs": [],
   "source": [
    "#### 2.2.2 Test per eteroschedasticità\n",
    "g = sn.lmplot(data=predictions, x=\"pred\", y=\"residuals\", height=5, aspect=5, order=2)\n",
    "\n",
    "g.axes[0][0].axhline(y=0, ls=\"--\", alpha=0.4)\n",
    "\n",
    "plt.title(\"Residuals Vs Predicted Values\")\n",
    "plt.show()"
   ],
   "metadata": {
    "collapsed": false,
    "pycharm": {
     "name": "#%%\n"
    }
   }
  },
  {
   "cell_type": "markdown",
   "source": [
    "L'andamento non è troppo variabile ma comunque gli errori si distribuiscono in maniera non costante dallo zero. Probabilmente è presente eteroschedasticità"
   ],
   "metadata": {
    "collapsed": false,
    "pycharm": {
     "name": "#%% md\n"
    }
   }
  },
  {
   "cell_type": "code",
   "execution_count": null,
   "outputs": [],
   "source": [
    "def test_model(col):\n",
    "    final_array = []\n",
    "    for value in col:\n",
    "        a = [1, value]\n",
    "        final_array.append(a)\n",
    "    return np.array(final_array)"
   ],
   "metadata": {
    "collapsed": false,
    "pycharm": {
     "name": "#%%\n"
    }
   }
  },
  {
   "cell_type": "code",
   "execution_count": null,
   "outputs": [],
   "source": [
    "model = test_model(data_test[\"total load actual\"])  # array dei valori reali di Y\n",
    "# Breusch-Pagan Lagrange Multiplier test for heteroscedasticity\n",
    "# ==============================================================================\n",
    "\"\"\" It tests the hypothesis that the residual variance does not depend on the variables in x in the form \"\"\"\n",
    "\n",
    "bp_test = het_breuschpagan(predictions[\"residuals\"], model)\n",
    "\n",
    "print(f\"LM-test p_value: {bp_test[1]}\")"
   ],
   "metadata": {
    "collapsed": false,
    "pycharm": {
     "name": "#%%\n"
    }
   }
  },
  {
   "cell_type": "markdown",
   "source": [
    "Eteroschedasticità confermata"
   ],
   "metadata": {
    "collapsed": false,
    "pycharm": {
     "name": "#%% md\n"
    }
   }
  }
 ],
 "metadata": {
  "kernelspec": {
   "display_name": "Python 3",
   "language": "python",
   "name": "python3"
  },
  "language_info": {
   "codemirror_mode": {
    "name": "ipython",
    "version": 2
   },
   "file_extension": ".py",
   "mimetype": "text/x-python",
   "name": "python",
   "nbconvert_exporter": "python",
   "pygments_lexer": "ipython2",
   "version": "2.7.6"
  }
 },
 "nbformat": 4,
 "nbformat_minor": 0
}