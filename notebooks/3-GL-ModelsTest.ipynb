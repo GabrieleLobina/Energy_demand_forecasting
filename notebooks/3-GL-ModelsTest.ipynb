{
 "cells": [
  {
   "cell_type": "code",
   "execution_count": 1,
   "outputs": [],
   "source": [
    "import matplotlib.pyplot as plt\n",
    "import pandas as pd\n",
    "from Forecasting_Repository.src.models.predict_model import Predictor\n",
    "import seaborn as sns"
   ],
   "metadata": {
    "collapsed": false,
    "pycharm": {
     "name": "#%%\n"
    }
   }
  },
  {
   "cell_type": "code",
   "execution_count": 2,
   "outputs": [],
   "source": [
    "df = pd.read_csv(\"../data/processed/processed_data.csv\", index_col=\"time\")\n",
    "df.index = pd.to_datetime(df.index)"
   ],
   "metadata": {
    "collapsed": false,
    "pycharm": {
     "name": "#%%\n"
    }
   }
  },
  {
   "cell_type": "code",
   "execution_count": 3,
   "outputs": [
    {
     "data": {
      "text/plain": "                     generation biomass  generation fossil brown coal/lignite  \\\ntime                                                                            \n2015-01-01 00:00:00               447.0                                 329.0   \n2015-01-01 01:00:00               449.0                                 328.0   \n2015-01-01 02:00:00               448.0                                 323.0   \n2015-01-01 03:00:00               438.0                                 254.0   \n2015-01-01 04:00:00               428.0                                 187.0   \n...                                 ...                                   ...   \n2018-12-31 19:00:00               297.0                                   0.0   \n2018-12-31 20:00:00               296.0                                   0.0   \n2018-12-31 21:00:00               292.0                                   0.0   \n2018-12-31 22:00:00               293.0                                   0.0   \n2018-12-31 23:00:00               290.0                                   0.0   \n\n                     generation fossil gas  generation fossil hard coal  \\\ntime                                                                      \n2015-01-01 00:00:00                 4844.0                       4821.0   \n2015-01-01 01:00:00                 5196.0                       4755.0   \n2015-01-01 02:00:00                 4857.0                       4581.0   \n2015-01-01 03:00:00                 4314.0                       4131.0   \n2015-01-01 04:00:00                 4130.0                       3840.0   \n...                                    ...                          ...   \n2018-12-31 19:00:00                 7634.0                       2628.0   \n2018-12-31 20:00:00                 7241.0                       2566.0   \n2018-12-31 21:00:00                 7025.0                       2422.0   \n2018-12-31 22:00:00                 6562.0                       2293.0   \n2018-12-31 23:00:00                 6926.0                       2166.0   \n\n                     generation fossil oil  \\\ntime                                         \n2015-01-01 00:00:00                  162.0   \n2015-01-01 01:00:00                  158.0   \n2015-01-01 02:00:00                  157.0   \n2015-01-01 03:00:00                  160.0   \n2015-01-01 04:00:00                  156.0   \n...                                    ...   \n2018-12-31 19:00:00                  178.0   \n2018-12-31 20:00:00                  174.0   \n2018-12-31 21:00:00                  168.0   \n2018-12-31 22:00:00                  163.0   \n2018-12-31 23:00:00                  163.0   \n\n                     generation hydro pumped storage consumption  \\\ntime                                                               \n2015-01-01 00:00:00                                        863.0   \n2015-01-01 01:00:00                                        920.0   \n2015-01-01 02:00:00                                       1164.0   \n2015-01-01 03:00:00                                       1503.0   \n2015-01-01 04:00:00                                       1826.0   \n...                                                          ...   \n2018-12-31 19:00:00                                          1.0   \n2018-12-31 20:00:00                                          1.0   \n2018-12-31 21:00:00                                         50.0   \n2018-12-31 22:00:00                                        108.0   \n2018-12-31 23:00:00                                        108.0   \n\n                     generation hydro run-of-river and poundage  \\\ntime                                                              \n2015-01-01 00:00:00                                      1051.0   \n2015-01-01 01:00:00                                      1009.0   \n2015-01-01 02:00:00                                       973.0   \n2015-01-01 03:00:00                                       949.0   \n2015-01-01 04:00:00                                       953.0   \n...                                                         ...   \n2018-12-31 19:00:00                                      1135.0   \n2018-12-31 20:00:00                                      1172.0   \n2018-12-31 21:00:00                                      1148.0   \n2018-12-31 22:00:00                                      1128.0   \n2018-12-31 23:00:00                                      1069.0   \n\n                     generation hydro water reservoir  generation nuclear  \\\ntime                                                                        \n2015-01-01 00:00:00                            1899.0              7096.0   \n2015-01-01 01:00:00                            1658.0              7096.0   \n2015-01-01 02:00:00                            1371.0              7099.0   \n2015-01-01 03:00:00                             779.0              7098.0   \n2015-01-01 04:00:00                             720.0              7097.0   \n...                                               ...                 ...   \n2018-12-31 19:00:00                            4836.0              6073.0   \n2018-12-31 20:00:00                            3931.0              6074.0   \n2018-12-31 21:00:00                            2831.0              6076.0   \n2018-12-31 22:00:00                            2068.0              6075.0   \n2018-12-31 23:00:00                            1686.0              6075.0   \n\n                     generation other  ...  price actual  precipitation  \\\ntime                                   ...                                \n2015-01-01 00:00:00              43.0  ...         65.41   1.000000e-07   \n2015-01-01 01:00:00              43.0  ...         64.92   2.000000e-07   \n2015-01-01 02:00:00              43.0  ...         64.48   2.000000e-07   \n2015-01-01 03:00:00              43.0  ...         59.32   2.000000e-07   \n2015-01-01 04:00:00              43.0  ...         56.04   1.000000e-07   \n...                               ...  ...           ...            ...   \n2018-12-31 19:00:00              63.0  ...         77.02   0.000000e+00   \n2018-12-31 20:00:00              62.0  ...         76.16   0.000000e+00   \n2018-12-31 21:00:00              61.0  ...         74.30   0.000000e+00   \n2018-12-31 22:00:00              61.0  ...         69.89   0.000000e+00   \n2018-12-31 23:00:00              61.0  ...         69.88   0.000000e+00   \n\n                     temperature  irradiance_surface  irradiance_toa  \\\ntime                                                                   \n2015-01-01 00:00:00        0.451                 0.0             0.0   \n2015-01-01 01:00:00        0.234                 0.0             0.0   \n2015-01-01 02:00:00        0.129                 0.0             0.0   \n2015-01-01 03:00:00        0.008                 0.0             0.0   \n2015-01-01 04:00:00        0.042                 0.0             0.0   \n...                          ...                 ...             ...   \n2018-12-31 19:00:00        6.908                 0.0             0.0   \n2018-12-31 20:00:00        6.164                 0.0             0.0   \n2018-12-31 21:00:00        5.575                 0.0             0.0   \n2018-12-31 22:00:00        5.146                 0.0             0.0   \n2018-12-31 23:00:00        4.811                 0.0             0.0   \n\n                     snowfall  snow_mass  cloud_cover  air_density  Holidays  \ntime                                                                          \n2015-01-01 00:00:00       0.0      2.781       0.0868       11.948         1  \n2015-01-01 01:00:00       0.0      2.781       0.1135       11.957         1  \n2015-01-01 02:00:00       0.0      2.781       0.0127       11.965         1  \n2015-01-01 03:00:00       0.0      0.278       0.1154       11.971         1  \n2015-01-01 04:00:00       0.0      0.278       0.0984       11.978         1  \n...                       ...        ...          ...          ...       ...  \n2018-12-31 19:00:00       0.0      0.000       0.0305       11.669         0  \n2018-12-31 20:00:00       0.0      0.000       0.0338       11.692         0  \n2018-12-31 21:00:00       0.0      0.000       0.0408        1.171         0  \n2018-12-31 22:00:00       0.0      0.000       0.0446       11.724         0  \n2018-12-31 23:00:00       0.0      0.000       0.0481       11.735         0  \n\n[35064 rows x 29 columns]",
      "text/html": "<div>\n<style scoped>\n    .dataframe tbody tr th:only-of-type {\n        vertical-align: middle;\n    }\n\n    .dataframe tbody tr th {\n        vertical-align: top;\n    }\n\n    .dataframe thead th {\n        text-align: right;\n    }\n</style>\n<table border=\"1\" class=\"dataframe\">\n  <thead>\n    <tr style=\"text-align: right;\">\n      <th></th>\n      <th>generation biomass</th>\n      <th>generation fossil brown coal/lignite</th>\n      <th>generation fossil gas</th>\n      <th>generation fossil hard coal</th>\n      <th>generation fossil oil</th>\n      <th>generation hydro pumped storage consumption</th>\n      <th>generation hydro run-of-river and poundage</th>\n      <th>generation hydro water reservoir</th>\n      <th>generation nuclear</th>\n      <th>generation other</th>\n      <th>...</th>\n      <th>price actual</th>\n      <th>precipitation</th>\n      <th>temperature</th>\n      <th>irradiance_surface</th>\n      <th>irradiance_toa</th>\n      <th>snowfall</th>\n      <th>snow_mass</th>\n      <th>cloud_cover</th>\n      <th>air_density</th>\n      <th>Holidays</th>\n    </tr>\n    <tr>\n      <th>time</th>\n      <th></th>\n      <th></th>\n      <th></th>\n      <th></th>\n      <th></th>\n      <th></th>\n      <th></th>\n      <th></th>\n      <th></th>\n      <th></th>\n      <th></th>\n      <th></th>\n      <th></th>\n      <th></th>\n      <th></th>\n      <th></th>\n      <th></th>\n      <th></th>\n      <th></th>\n      <th></th>\n      <th></th>\n    </tr>\n  </thead>\n  <tbody>\n    <tr>\n      <th>2015-01-01 00:00:00</th>\n      <td>447.0</td>\n      <td>329.0</td>\n      <td>4844.0</td>\n      <td>4821.0</td>\n      <td>162.0</td>\n      <td>863.0</td>\n      <td>1051.0</td>\n      <td>1899.0</td>\n      <td>7096.0</td>\n      <td>43.0</td>\n      <td>...</td>\n      <td>65.41</td>\n      <td>1.000000e-07</td>\n      <td>0.451</td>\n      <td>0.0</td>\n      <td>0.0</td>\n      <td>0.0</td>\n      <td>2.781</td>\n      <td>0.0868</td>\n      <td>11.948</td>\n      <td>1</td>\n    </tr>\n    <tr>\n      <th>2015-01-01 01:00:00</th>\n      <td>449.0</td>\n      <td>328.0</td>\n      <td>5196.0</td>\n      <td>4755.0</td>\n      <td>158.0</td>\n      <td>920.0</td>\n      <td>1009.0</td>\n      <td>1658.0</td>\n      <td>7096.0</td>\n      <td>43.0</td>\n      <td>...</td>\n      <td>64.92</td>\n      <td>2.000000e-07</td>\n      <td>0.234</td>\n      <td>0.0</td>\n      <td>0.0</td>\n      <td>0.0</td>\n      <td>2.781</td>\n      <td>0.1135</td>\n      <td>11.957</td>\n      <td>1</td>\n    </tr>\n    <tr>\n      <th>2015-01-01 02:00:00</th>\n      <td>448.0</td>\n      <td>323.0</td>\n      <td>4857.0</td>\n      <td>4581.0</td>\n      <td>157.0</td>\n      <td>1164.0</td>\n      <td>973.0</td>\n      <td>1371.0</td>\n      <td>7099.0</td>\n      <td>43.0</td>\n      <td>...</td>\n      <td>64.48</td>\n      <td>2.000000e-07</td>\n      <td>0.129</td>\n      <td>0.0</td>\n      <td>0.0</td>\n      <td>0.0</td>\n      <td>2.781</td>\n      <td>0.0127</td>\n      <td>11.965</td>\n      <td>1</td>\n    </tr>\n    <tr>\n      <th>2015-01-01 03:00:00</th>\n      <td>438.0</td>\n      <td>254.0</td>\n      <td>4314.0</td>\n      <td>4131.0</td>\n      <td>160.0</td>\n      <td>1503.0</td>\n      <td>949.0</td>\n      <td>779.0</td>\n      <td>7098.0</td>\n      <td>43.0</td>\n      <td>...</td>\n      <td>59.32</td>\n      <td>2.000000e-07</td>\n      <td>0.008</td>\n      <td>0.0</td>\n      <td>0.0</td>\n      <td>0.0</td>\n      <td>0.278</td>\n      <td>0.1154</td>\n      <td>11.971</td>\n      <td>1</td>\n    </tr>\n    <tr>\n      <th>2015-01-01 04:00:00</th>\n      <td>428.0</td>\n      <td>187.0</td>\n      <td>4130.0</td>\n      <td>3840.0</td>\n      <td>156.0</td>\n      <td>1826.0</td>\n      <td>953.0</td>\n      <td>720.0</td>\n      <td>7097.0</td>\n      <td>43.0</td>\n      <td>...</td>\n      <td>56.04</td>\n      <td>1.000000e-07</td>\n      <td>0.042</td>\n      <td>0.0</td>\n      <td>0.0</td>\n      <td>0.0</td>\n      <td>0.278</td>\n      <td>0.0984</td>\n      <td>11.978</td>\n      <td>1</td>\n    </tr>\n    <tr>\n      <th>...</th>\n      <td>...</td>\n      <td>...</td>\n      <td>...</td>\n      <td>...</td>\n      <td>...</td>\n      <td>...</td>\n      <td>...</td>\n      <td>...</td>\n      <td>...</td>\n      <td>...</td>\n      <td>...</td>\n      <td>...</td>\n      <td>...</td>\n      <td>...</td>\n      <td>...</td>\n      <td>...</td>\n      <td>...</td>\n      <td>...</td>\n      <td>...</td>\n      <td>...</td>\n      <td>...</td>\n    </tr>\n    <tr>\n      <th>2018-12-31 19:00:00</th>\n      <td>297.0</td>\n      <td>0.0</td>\n      <td>7634.0</td>\n      <td>2628.0</td>\n      <td>178.0</td>\n      <td>1.0</td>\n      <td>1135.0</td>\n      <td>4836.0</td>\n      <td>6073.0</td>\n      <td>63.0</td>\n      <td>...</td>\n      <td>77.02</td>\n      <td>0.000000e+00</td>\n      <td>6.908</td>\n      <td>0.0</td>\n      <td>0.0</td>\n      <td>0.0</td>\n      <td>0.000</td>\n      <td>0.0305</td>\n      <td>11.669</td>\n      <td>0</td>\n    </tr>\n    <tr>\n      <th>2018-12-31 20:00:00</th>\n      <td>296.0</td>\n      <td>0.0</td>\n      <td>7241.0</td>\n      <td>2566.0</td>\n      <td>174.0</td>\n      <td>1.0</td>\n      <td>1172.0</td>\n      <td>3931.0</td>\n      <td>6074.0</td>\n      <td>62.0</td>\n      <td>...</td>\n      <td>76.16</td>\n      <td>0.000000e+00</td>\n      <td>6.164</td>\n      <td>0.0</td>\n      <td>0.0</td>\n      <td>0.0</td>\n      <td>0.000</td>\n      <td>0.0338</td>\n      <td>11.692</td>\n      <td>0</td>\n    </tr>\n    <tr>\n      <th>2018-12-31 21:00:00</th>\n      <td>292.0</td>\n      <td>0.0</td>\n      <td>7025.0</td>\n      <td>2422.0</td>\n      <td>168.0</td>\n      <td>50.0</td>\n      <td>1148.0</td>\n      <td>2831.0</td>\n      <td>6076.0</td>\n      <td>61.0</td>\n      <td>...</td>\n      <td>74.30</td>\n      <td>0.000000e+00</td>\n      <td>5.575</td>\n      <td>0.0</td>\n      <td>0.0</td>\n      <td>0.0</td>\n      <td>0.000</td>\n      <td>0.0408</td>\n      <td>1.171</td>\n      <td>0</td>\n    </tr>\n    <tr>\n      <th>2018-12-31 22:00:00</th>\n      <td>293.0</td>\n      <td>0.0</td>\n      <td>6562.0</td>\n      <td>2293.0</td>\n      <td>163.0</td>\n      <td>108.0</td>\n      <td>1128.0</td>\n      <td>2068.0</td>\n      <td>6075.0</td>\n      <td>61.0</td>\n      <td>...</td>\n      <td>69.89</td>\n      <td>0.000000e+00</td>\n      <td>5.146</td>\n      <td>0.0</td>\n      <td>0.0</td>\n      <td>0.0</td>\n      <td>0.000</td>\n      <td>0.0446</td>\n      <td>11.724</td>\n      <td>0</td>\n    </tr>\n    <tr>\n      <th>2018-12-31 23:00:00</th>\n      <td>290.0</td>\n      <td>0.0</td>\n      <td>6926.0</td>\n      <td>2166.0</td>\n      <td>163.0</td>\n      <td>108.0</td>\n      <td>1069.0</td>\n      <td>1686.0</td>\n      <td>6075.0</td>\n      <td>61.0</td>\n      <td>...</td>\n      <td>69.88</td>\n      <td>0.000000e+00</td>\n      <td>4.811</td>\n      <td>0.0</td>\n      <td>0.0</td>\n      <td>0.0</td>\n      <td>0.000</td>\n      <td>0.0481</td>\n      <td>11.735</td>\n      <td>0</td>\n    </tr>\n  </tbody>\n</table>\n<p>35064 rows × 29 columns</p>\n</div>"
     },
     "execution_count": 3,
     "metadata": {},
     "output_type": "execute_result"
    }
   ],
   "source": [
    "df"
   ],
   "metadata": {
    "collapsed": false,
    "pycharm": {
     "name": "#%%\n"
    }
   }
  },
  {
   "cell_type": "markdown",
   "source": [
    "---\n",
    "## Calcolo andamento Mae e Mape nei diversi modelli"
   ],
   "metadata": {
    "collapsed": false,
    "pycharm": {
     "name": "#%% md\n"
    }
   }
  },
  {
   "cell_type": "markdown",
   "source": [
    "#### AR con variabili esogene"
   ],
   "metadata": {
    "collapsed": false,
    "pycharm": {
     "name": "#%% md\n"
    }
   }
  },
  {
   "cell_type": "code",
   "execution_count": 13,
   "outputs": [],
   "source": [
    "mae_AR_H = []\n",
    "mape_AR_H = []\n",
    "for steps in range(1, 123):\n",
    "    predictions_AR_H = Predictor(model_path=\"../models/AR_model.pkl\",\n",
    "                                 steps=steps * 24)\n",
    "    mae_AR_H.append(predictions_AR_H.mae)\n",
    "    mape_AR_H.append(predictions_AR_H.mape)"
   ],
   "metadata": {
    "collapsed": false,
    "pycharm": {
     "name": "#%%\n"
    }
   }
  },
  {
   "cell_type": "code",
   "execution_count": 5,
   "outputs": [
    {
     "name": "stdout",
     "output_type": "stream",
     "text": [
      "122\n",
      "122\n"
     ]
    }
   ],
   "source": [
    "print(len(mae_AR_H))\n",
    "print(len(mape_AR_H))"
   ],
   "metadata": {
    "collapsed": false,
    "pycharm": {
     "name": "#%%\n"
    }
   }
  },
  {
   "cell_type": "code",
   "execution_count": 14,
   "outputs": [
    {
     "name": "stdout",
     "output_type": "stream",
     "text": [
      "6192.246047811813\n",
      "7526.080128010427\n",
      "6322.316185682556\n",
      "5078.268212933787\n",
      "4219.32198659319\n",
      "4140.639918129634\n",
      "3959.982362437512\n",
      "3930.4084307331013\n",
      "3719.7947439349523\n",
      "3454.585694473231\n",
      "3279.5474100576494\n",
      "3315.28506612553\n",
      "3214.0617987498895\n",
      "3134.053664078968\n",
      "2994.8865372006408\n",
      "2915.8575619822077\n",
      "2893.9298791799893\n",
      "2838.083372089113\n",
      "2782.153490663838\n",
      "2753.6971347687963\n",
      "2733.2243906004373\n",
      "2654.035630038702\n",
      "2603.010407381308\n",
      "2620.8770455815447\n",
      "2597.6872413662745\n",
      "2554.3537383368457\n",
      "2507.319528132096\n",
      "2463.625618351825\n",
      "2420.144329159978\n",
      "2404.7406453289013\n",
      "2525.5926979616197\n",
      "2521.25970678691\n",
      "2492.754859832935\n",
      "2495.4076735633976\n",
      "2440.415688455184\n",
      "2474.591884485204\n",
      "2587.7926971363363\n",
      "2594.906706747903\n",
      "2548.5676443913003\n",
      "2503.7716748545886\n",
      "2479.9813042903556\n",
      "2504.249368897462\n",
      "2481.1480810371845\n",
      "2477.4842999085026\n",
      "2436.684562262157\n",
      "2397.6915749116383\n",
      "2360.128821177826\n",
      "2325.0094740912923\n",
      "2291.324399264912\n",
      "2279.7719259538144\n",
      "2280.6131906634673\n",
      "2254.351148028668\n",
      "2223.819112473292\n",
      "2198.2224579239405\n",
      "2170.940735724821\n",
      "2143.5377600586257\n",
      "2130.625265456572\n",
      "2129.2714517173404\n",
      "2133.1376595491647\n",
      "2135.024938518996\n",
      "2128.846655127726\n",
      "2168.5280584689544\n",
      "2177.9172453641213\n",
      "2190.755586115423\n",
      "2220.1082347293504\n",
      "2205.915991055847\n",
      "2203.8699319378006\n",
      "2202.649159238456\n",
      "2208.0457872414595\n",
      "2194.374496411568\n",
      "2173.631710425842\n",
      "2179.626482508099\n",
      "2188.894041941001\n",
      "2170.5483288168275\n",
      "2150.0483654677732\n",
      "2131.214350776614\n",
      "2110.950842121352\n",
      "2109.751745692155\n",
      "2114.0767991487933\n",
      "2106.80046993296\n",
      "2099.10608543977\n",
      "2089.3328428572872\n",
      "2084.561581998244\n",
      "2078.100427108048\n",
      "2069.284992136526\n",
      "2068.932363957441\n",
      "2073.1247159510717\n",
      "2072.1419653454623\n",
      "2069.3725221441628\n",
      "2069.7196781997336\n",
      "2066.6482510288884\n",
      "2100.964961669584\n",
      "2147.77615249494\n",
      "2155.334458885689\n",
      "2152.566025740281\n",
      "2175.3264499028573\n",
      "2162.53377749647\n",
      "2172.0405530216112\n",
      "2176.7240073710873\n",
      "2194.8350762787213\n",
      "2214.942041083237\n",
      "2205.6144887776204\n",
      "2206.0949550267505\n",
      "2211.6399155803892\n",
      "2214.731848752475\n",
      "2208.232089372591\n",
      "2206.449506035927\n",
      "2219.7852576303267\n",
      "2231.0511492524106\n",
      "2234.28653647433\n",
      "2235.397966415269\n",
      "2229.7215912641523\n",
      "2222.2008685741635\n",
      "2219.8853270159425\n",
      "2223.508798312721\n",
      "2255.529630137088\n",
      "2252.040317484591\n",
      "2242.590734081729\n",
      "2233.28800295038\n",
      "2229.7141503124803\n",
      "2229.912584018477\n",
      "2231.6863838687905\n"
     ]
    }
   ],
   "source": [
    "for i in mae_AR_H: print(i)"
   ],
   "metadata": {
    "collapsed": false,
    "pycharm": {
     "name": "#%%\n"
    }
   }
  },
  {
   "cell_type": "markdown",
   "source": [
    "### LGBM con variabili esogene"
   ],
   "metadata": {
    "collapsed": false,
    "pycharm": {
     "name": "#%% md\n"
    }
   }
  },
  {
   "cell_type": "code",
   "execution_count": 18,
   "outputs": [],
   "source": [
    "mae_LGBM_H = []\n",
    "mape_LGBM_H = []\n",
    "for steps in range(1, 123):\n",
    "    predictions_LGBM_H = Predictor(model_path=\"../models/LGBM_model.pkl\",\n",
    "                                   steps=steps * 24)\n",
    "    mae_LGBM_H.append(predictions_LGBM_H.mae)\n",
    "    mape_LGBM_H.append(predictions_LGBM_H.mape)"
   ],
   "metadata": {
    "collapsed": false,
    "pycharm": {
     "name": "#%%\n"
    }
   }
  },
  {
   "cell_type": "code",
   "execution_count": 19,
   "outputs": [
    {
     "name": "stdout",
     "output_type": "stream",
     "text": [
      "122\n",
      "122\n"
     ]
    }
   ],
   "source": [
    "print(len(mae_LGBM_H))\n",
    "print(len(mape_LGBM_H))"
   ],
   "metadata": {
    "collapsed": false,
    "pycharm": {
     "name": "#%%\n"
    }
   }
  },
  {
   "cell_type": "markdown",
   "source": [
    "### AR senza variabili esogene"
   ],
   "metadata": {
    "collapsed": false,
    "pycharm": {
     "name": "#%% md\n"
    }
   }
  },
  {
   "cell_type": "code",
   "execution_count": 20,
   "outputs": [
    {
     "name": "stderr",
     "output_type": "stream",
     "text": [
      "\n",
      "KeyboardInterrupt\n",
      "\n"
     ]
    }
   ],
   "source": [
    "mae_AR_NH = []\n",
    "mape_AR_NH = []\n",
    "for steps in range(1, 123):\n",
    "    predictions_AR_NH = Predictor(model_path=\"../models/AR_model_NonHex.pkl\",\n",
    "                                  steps=steps * 24, hexog=False)\n",
    "    mae_AR_NH.append(predictions_AR_NH.mae)\n",
    "    mape_AR_NH.append(predictions_AR_NH.mape)"
   ],
   "metadata": {
    "collapsed": false,
    "pycharm": {
     "name": "#%%\n"
    }
   }
  },
  {
   "cell_type": "code",
   "execution_count": null,
   "outputs": [],
   "source": [
    "print(len(mae_AR_NH))\n",
    "print(len(mape_AR_NH))"
   ],
   "metadata": {
    "collapsed": false,
    "pycharm": {
     "name": "#%%\n"
    }
   }
  },
  {
   "cell_type": "markdown",
   "source": [
    "### LGBM senza variabili esogene"
   ],
   "metadata": {
    "collapsed": false,
    "pycharm": {
     "name": "#%% md\n"
    }
   }
  },
  {
   "cell_type": "code",
   "execution_count": null,
   "outputs": [],
   "source": [
    "mae_LGBM_NH = []\n",
    "mape_LGBM_NH = []\n",
    "for steps in range(1, 123):\n",
    "    predictions_LGBM_NH = Predictor(model_path=\"../models/LGBM_model_noHex.pkl\",\n",
    "                                    steps=steps * 24, hexog=False)\n",
    "    mae_LGBM_NH.append(predictions_LGBM_NH.mae)\n",
    "    mape_LGBM_NH.append(predictions_LGBM_NH.mape)"
   ],
   "metadata": {
    "collapsed": false,
    "pycharm": {
     "name": "#%%\n"
    }
   }
  },
  {
   "cell_type": "code",
   "execution_count": null,
   "outputs": [],
   "source": [
    "print(len(mae_LGBM_NH))\n",
    "print(len(mape_LGBM_NH))"
   ],
   "metadata": {
    "collapsed": false,
    "pycharm": {
     "name": "#%%\n"
    }
   }
  },
  {
   "cell_type": "code",
   "execution_count": null,
   "outputs": [],
   "source": [
    "new_df = pd.DataFrame({\n",
    "                        # Con variabili esogene\n",
    "                       \"MAE_AR_HEXOG\": mae_AR_H,\n",
    "                       \"MAPE_AR_HEXOG\": mape_AR_H,\n",
    "\n",
    "                       \"MAE_LGBM_HEXOG\": mae_LGBM_H,\n",
    "                       \"MAPE_LGBM_HEXOG\": mape_LGBM_H,\n",
    "\n",
    "                        # Senza variabili esogene\n",
    "                       \"MAE_AR_NonHEXOG\": mae_AR_NH,\n",
    "                       \"MAPE_AR_NonHEXOG\": mape_AR_NH,\n",
    "\n",
    "                       \"MAE_LGBM_NonHEXOG\": mae_LGBM_NH,\n",
    "                       \"MAPE_LGBM_NonHEXOG\": mape_LGBM_NH})\n",
    "\n",
    "new_df.to_csv(\"../data/interim/DF_errori_modelli.csv\")"
   ],
   "metadata": {
    "collapsed": false,
    "pycharm": {
     "name": "#%%\n"
    }
   }
  },
  {
   "cell_type": "code",
   "execution_count": null,
   "outputs": [],
   "source": [
    "new_df"
   ],
   "metadata": {
    "collapsed": false,
    "pycharm": {
     "name": "#%%\n"
    }
   }
  }
 ],
 "metadata": {
  "kernelspec": {
   "display_name": "Python 3",
   "language": "python",
   "name": "python3"
  },
  "language_info": {
   "codemirror_mode": {
    "name": "ipython",
    "version": 2
   },
   "file_extension": ".py",
   "mimetype": "text/x-python",
   "name": "python",
   "nbconvert_exporter": "python",
   "pygments_lexer": "ipython2",
   "version": "2.7.6"
  }
 },
 "nbformat": 4,
 "nbformat_minor": 0
}