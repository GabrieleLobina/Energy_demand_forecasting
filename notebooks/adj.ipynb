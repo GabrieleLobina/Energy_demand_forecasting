{
 "cells": [
  {
   "cell_type": "code",
   "execution_count": 1,
   "metadata": {
    "collapsed": true,
    "pycharm": {
     "name": "#%%\n"
    }
   },
   "outputs": [],
   "source": [
    "import pandas as pd\n",
    "from Forecasting_Repository.src.data.make_main_dataset import adjust_datetime"
   ]
  },
  {
   "cell_type": "markdown",
   "source": [
    "---\n",
    "#### Questa parte serve?"
   ],
   "metadata": {
    "collapsed": false,
    "pycharm": {
     "name": "#%% md\n"
    }
   }
  },
  {
   "cell_type": "code",
   "execution_count": 2,
   "outputs": [
    {
     "data": {
      "text/plain": "                          Time (CET/CEST)  \\\n0     01.01.2019 00:00 - 01.01.2019 01:00   \n1     01.01.2019 01:00 - 01.01.2019 02:00   \n2     01.01.2019 02:00 - 01.01.2019 03:00   \n3     01.01.2019 03:00 - 01.01.2019 04:00   \n4     01.01.2019 04:00 - 01.01.2019 05:00   \n...                                   ...   \n8756  31.12.2019 19:00 - 31.12.2019 20:00   \n8757  31.12.2019 20:00 - 31.12.2019 21:00   \n8758  31.12.2019 21:00 - 31.12.2019 22:00   \n8759  31.12.2019 22:00 - 31.12.2019 23:00   \n8760  31.12.2019 23:00 - 01.01.2020 00:00   \n\n      Day-ahead Total Load Forecast [MW] - BZN|ES  \\\n0                                         23755.0   \n1                                         22962.0   \n2                                         21796.0   \n3                                         20596.0   \n4                                         19803.0   \n...                                           ...   \n8756                                      30081.0   \n8757                                      29479.0   \n8758                                      27766.0   \n8759                                      25246.0   \n8760                                      24075.0   \n\n      Actual Total Load [MW] - BZN|ES  \n0                             23401.0  \n1                             22699.0  \n2                             21336.0  \n3                             20184.0  \n4                             19430.0  \n...                               ...  \n8756                          30191.0  \n8757                          29362.0  \n8758                          27608.0  \n8759                          25241.0  \n8760                          23911.0  \n\n[8761 rows x 3 columns]",
      "text/html": "<div>\n<style scoped>\n    .dataframe tbody tr th:only-of-type {\n        vertical-align: middle;\n    }\n\n    .dataframe tbody tr th {\n        vertical-align: top;\n    }\n\n    .dataframe thead th {\n        text-align: right;\n    }\n</style>\n<table border=\"1\" class=\"dataframe\">\n  <thead>\n    <tr style=\"text-align: right;\">\n      <th></th>\n      <th>Time (CET/CEST)</th>\n      <th>Day-ahead Total Load Forecast [MW] - BZN|ES</th>\n      <th>Actual Total Load [MW] - BZN|ES</th>\n    </tr>\n  </thead>\n  <tbody>\n    <tr>\n      <th>0</th>\n      <td>01.01.2019 00:00 - 01.01.2019 01:00</td>\n      <td>23755.0</td>\n      <td>23401.0</td>\n    </tr>\n    <tr>\n      <th>1</th>\n      <td>01.01.2019 01:00 - 01.01.2019 02:00</td>\n      <td>22962.0</td>\n      <td>22699.0</td>\n    </tr>\n    <tr>\n      <th>2</th>\n      <td>01.01.2019 02:00 - 01.01.2019 03:00</td>\n      <td>21796.0</td>\n      <td>21336.0</td>\n    </tr>\n    <tr>\n      <th>3</th>\n      <td>01.01.2019 03:00 - 01.01.2019 04:00</td>\n      <td>20596.0</td>\n      <td>20184.0</td>\n    </tr>\n    <tr>\n      <th>4</th>\n      <td>01.01.2019 04:00 - 01.01.2019 05:00</td>\n      <td>19803.0</td>\n      <td>19430.0</td>\n    </tr>\n    <tr>\n      <th>...</th>\n      <td>...</td>\n      <td>...</td>\n      <td>...</td>\n    </tr>\n    <tr>\n      <th>8756</th>\n      <td>31.12.2019 19:00 - 31.12.2019 20:00</td>\n      <td>30081.0</td>\n      <td>30191.0</td>\n    </tr>\n    <tr>\n      <th>8757</th>\n      <td>31.12.2019 20:00 - 31.12.2019 21:00</td>\n      <td>29479.0</td>\n      <td>29362.0</td>\n    </tr>\n    <tr>\n      <th>8758</th>\n      <td>31.12.2019 21:00 - 31.12.2019 22:00</td>\n      <td>27766.0</td>\n      <td>27608.0</td>\n    </tr>\n    <tr>\n      <th>8759</th>\n      <td>31.12.2019 22:00 - 31.12.2019 23:00</td>\n      <td>25246.0</td>\n      <td>25241.0</td>\n    </tr>\n    <tr>\n      <th>8760</th>\n      <td>31.12.2019 23:00 - 01.01.2020 00:00</td>\n      <td>24075.0</td>\n      <td>23911.0</td>\n    </tr>\n  </tbody>\n</table>\n<p>8761 rows × 3 columns</p>\n</div>"
     },
     "execution_count": 2,
     "metadata": {},
     "output_type": "execute_result"
    }
   ],
   "source": [
    "df_2019 = pd.read_csv(\"../data/raw/annual_load/Total Load - Day Ahead _ Actual_201901010000-202001010000.csv\")\n",
    "df_2019"
   ],
   "metadata": {
    "collapsed": false,
    "pycharm": {
     "name": "#%%\n"
    }
   }
  },
  {
   "cell_type": "code",
   "execution_count": 3,
   "outputs": [
    {
     "data": {
      "text/plain": "                          Time (CET/CEST)  \\\n0     01.01.2019 00:00 - 01.01.2019 01:00   \n1     01.01.2019 01:00 - 01.01.2019 02:00   \n2     01.01.2019 02:00 - 01.01.2019 03:00   \n3     01.01.2019 03:00 - 01.01.2019 04:00   \n4     01.01.2019 04:00 - 01.01.2019 05:00   \n...                                   ...   \n8756  31.12.2019 19:00 - 31.12.2019 20:00   \n8757  31.12.2019 20:00 - 31.12.2019 21:00   \n8758  31.12.2019 21:00 - 31.12.2019 22:00   \n8759  31.12.2019 22:00 - 31.12.2019 23:00   \n8760  31.12.2019 23:00 - 01.01.2020 00:00   \n\n      Day-ahead Total Load Forecast [MW] - BZN|ES  \\\n0                                         23755.0   \n1                                         22962.0   \n2                                         21796.0   \n3                                         20596.0   \n4                                         19803.0   \n...                                           ...   \n8756                                      30081.0   \n8757                                      29479.0   \n8758                                      27766.0   \n8759                                      25246.0   \n8760                                      24075.0   \n\n      Actual Total Load [MW] - BZN|ES                time  \n0                             23401.0 2019-01-01 00:00:00  \n1                             22699.0 2019-01-01 01:00:00  \n2                             21336.0 2019-01-01 02:00:00  \n3                             20184.0 2019-01-01 03:00:00  \n4                             19430.0 2019-01-01 04:00:00  \n...                               ...                 ...  \n8756                          30191.0 2019-12-31 19:00:00  \n8757                          29362.0 2019-12-31 20:00:00  \n8758                          27608.0 2019-12-31 21:00:00  \n8759                          25241.0 2019-12-31 22:00:00  \n8760                          23911.0 2019-12-31 23:00:00  \n\n[8761 rows x 4 columns]",
      "text/html": "<div>\n<style scoped>\n    .dataframe tbody tr th:only-of-type {\n        vertical-align: middle;\n    }\n\n    .dataframe tbody tr th {\n        vertical-align: top;\n    }\n\n    .dataframe thead th {\n        text-align: right;\n    }\n</style>\n<table border=\"1\" class=\"dataframe\">\n  <thead>\n    <tr style=\"text-align: right;\">\n      <th></th>\n      <th>Time (CET/CEST)</th>\n      <th>Day-ahead Total Load Forecast [MW] - BZN|ES</th>\n      <th>Actual Total Load [MW] - BZN|ES</th>\n      <th>time</th>\n    </tr>\n  </thead>\n  <tbody>\n    <tr>\n      <th>0</th>\n      <td>01.01.2019 00:00 - 01.01.2019 01:00</td>\n      <td>23755.0</td>\n      <td>23401.0</td>\n      <td>2019-01-01 00:00:00</td>\n    </tr>\n    <tr>\n      <th>1</th>\n      <td>01.01.2019 01:00 - 01.01.2019 02:00</td>\n      <td>22962.0</td>\n      <td>22699.0</td>\n      <td>2019-01-01 01:00:00</td>\n    </tr>\n    <tr>\n      <th>2</th>\n      <td>01.01.2019 02:00 - 01.01.2019 03:00</td>\n      <td>21796.0</td>\n      <td>21336.0</td>\n      <td>2019-01-01 02:00:00</td>\n    </tr>\n    <tr>\n      <th>3</th>\n      <td>01.01.2019 03:00 - 01.01.2019 04:00</td>\n      <td>20596.0</td>\n      <td>20184.0</td>\n      <td>2019-01-01 03:00:00</td>\n    </tr>\n    <tr>\n      <th>4</th>\n      <td>01.01.2019 04:00 - 01.01.2019 05:00</td>\n      <td>19803.0</td>\n      <td>19430.0</td>\n      <td>2019-01-01 04:00:00</td>\n    </tr>\n    <tr>\n      <th>...</th>\n      <td>...</td>\n      <td>...</td>\n      <td>...</td>\n      <td>...</td>\n    </tr>\n    <tr>\n      <th>8756</th>\n      <td>31.12.2019 19:00 - 31.12.2019 20:00</td>\n      <td>30081.0</td>\n      <td>30191.0</td>\n      <td>2019-12-31 19:00:00</td>\n    </tr>\n    <tr>\n      <th>8757</th>\n      <td>31.12.2019 20:00 - 31.12.2019 21:00</td>\n      <td>29479.0</td>\n      <td>29362.0</td>\n      <td>2019-12-31 20:00:00</td>\n    </tr>\n    <tr>\n      <th>8758</th>\n      <td>31.12.2019 21:00 - 31.12.2019 22:00</td>\n      <td>27766.0</td>\n      <td>27608.0</td>\n      <td>2019-12-31 21:00:00</td>\n    </tr>\n    <tr>\n      <th>8759</th>\n      <td>31.12.2019 22:00 - 31.12.2019 23:00</td>\n      <td>25246.0</td>\n      <td>25241.0</td>\n      <td>2019-12-31 22:00:00</td>\n    </tr>\n    <tr>\n      <th>8760</th>\n      <td>31.12.2019 23:00 - 01.01.2020 00:00</td>\n      <td>24075.0</td>\n      <td>23911.0</td>\n      <td>2019-12-31 23:00:00</td>\n    </tr>\n  </tbody>\n</table>\n<p>8761 rows × 4 columns</p>\n</div>"
     },
     "execution_count": 3,
     "metadata": {},
     "output_type": "execute_result"
    }
   ],
   "source": [
    "new_time_column = [t.split(\"-\")[0] for t in df_2019[\"Time (CET/CEST)\"]]\n",
    "df_2019[\"time\"] = new_time_column\n",
    "df_2019 = adjust_datetime(df=df_2019, col_name=\"time\", form='%d.%m.%Y %H:%M')\n",
    "df_2019"
   ],
   "metadata": {
    "collapsed": false,
    "pycharm": {
     "name": "#%%\n"
    }
   }
  },
  {
   "cell_type": "code",
   "execution_count": 4,
   "outputs": [
    {
     "data": {
      "text/plain": "                     Day-ahead Total Load Forecast [MW] - BZN|ES  \\\ntime                                                               \n2019-01-01 00:00:00                                      23755.0   \n2019-01-01 01:00:00                                      22962.0   \n2019-01-01 02:00:00                                      21796.0   \n2019-01-01 03:00:00                                      20596.0   \n2019-01-01 04:00:00                                      19803.0   \n...                                                          ...   \n2019-12-31 19:00:00                                      30081.0   \n2019-12-31 20:00:00                                      29479.0   \n2019-12-31 21:00:00                                      27766.0   \n2019-12-31 22:00:00                                      25246.0   \n2019-12-31 23:00:00                                      24075.0   \n\n                     Actual Total Load [MW] - BZN|ES                time  \ntime                                                                      \n2019-01-01 00:00:00                          23401.0 2019-01-01 00:00:00  \n2019-01-01 01:00:00                          22699.0 2019-01-01 01:00:00  \n2019-01-01 02:00:00                          21336.0 2019-01-01 02:00:00  \n2019-01-01 03:00:00                          20184.0 2019-01-01 03:00:00  \n2019-01-01 04:00:00                          19430.0 2019-01-01 04:00:00  \n...                                              ...                 ...  \n2019-12-31 19:00:00                          30191.0 2019-12-31 19:00:00  \n2019-12-31 20:00:00                          29362.0 2019-12-31 20:00:00  \n2019-12-31 21:00:00                          27608.0 2019-12-31 21:00:00  \n2019-12-31 22:00:00                          25241.0 2019-12-31 22:00:00  \n2019-12-31 23:00:00                          23911.0 2019-12-31 23:00:00  \n\n[8761 rows x 3 columns]",
      "text/html": "<div>\n<style scoped>\n    .dataframe tbody tr th:only-of-type {\n        vertical-align: middle;\n    }\n\n    .dataframe tbody tr th {\n        vertical-align: top;\n    }\n\n    .dataframe thead th {\n        text-align: right;\n    }\n</style>\n<table border=\"1\" class=\"dataframe\">\n  <thead>\n    <tr style=\"text-align: right;\">\n      <th></th>\n      <th>Day-ahead Total Load Forecast [MW] - BZN|ES</th>\n      <th>Actual Total Load [MW] - BZN|ES</th>\n      <th>time</th>\n    </tr>\n    <tr>\n      <th>time</th>\n      <th></th>\n      <th></th>\n      <th></th>\n    </tr>\n  </thead>\n  <tbody>\n    <tr>\n      <th>2019-01-01 00:00:00</th>\n      <td>23755.0</td>\n      <td>23401.0</td>\n      <td>2019-01-01 00:00:00</td>\n    </tr>\n    <tr>\n      <th>2019-01-01 01:00:00</th>\n      <td>22962.0</td>\n      <td>22699.0</td>\n      <td>2019-01-01 01:00:00</td>\n    </tr>\n    <tr>\n      <th>2019-01-01 02:00:00</th>\n      <td>21796.0</td>\n      <td>21336.0</td>\n      <td>2019-01-01 02:00:00</td>\n    </tr>\n    <tr>\n      <th>2019-01-01 03:00:00</th>\n      <td>20596.0</td>\n      <td>20184.0</td>\n      <td>2019-01-01 03:00:00</td>\n    </tr>\n    <tr>\n      <th>2019-01-01 04:00:00</th>\n      <td>19803.0</td>\n      <td>19430.0</td>\n      <td>2019-01-01 04:00:00</td>\n    </tr>\n    <tr>\n      <th>...</th>\n      <td>...</td>\n      <td>...</td>\n      <td>...</td>\n    </tr>\n    <tr>\n      <th>2019-12-31 19:00:00</th>\n      <td>30081.0</td>\n      <td>30191.0</td>\n      <td>2019-12-31 19:00:00</td>\n    </tr>\n    <tr>\n      <th>2019-12-31 20:00:00</th>\n      <td>29479.0</td>\n      <td>29362.0</td>\n      <td>2019-12-31 20:00:00</td>\n    </tr>\n    <tr>\n      <th>2019-12-31 21:00:00</th>\n      <td>27766.0</td>\n      <td>27608.0</td>\n      <td>2019-12-31 21:00:00</td>\n    </tr>\n    <tr>\n      <th>2019-12-31 22:00:00</th>\n      <td>25246.0</td>\n      <td>25241.0</td>\n      <td>2019-12-31 22:00:00</td>\n    </tr>\n    <tr>\n      <th>2019-12-31 23:00:00</th>\n      <td>24075.0</td>\n      <td>23911.0</td>\n      <td>2019-12-31 23:00:00</td>\n    </tr>\n  </tbody>\n</table>\n<p>8761 rows × 3 columns</p>\n</div>"
     },
     "execution_count": 4,
     "metadata": {},
     "output_type": "execute_result"
    }
   ],
   "source": [
    "df_2019 = df_2019.set_index(df_2019[\"time\"])\n",
    "df_2019.index = pd.to_datetime(df_2019.index)\n",
    "df_2019 = df_2019.drop(columns=\"Time (CET/CEST)\")\n",
    "df_2019"
   ],
   "metadata": {
    "collapsed": false,
    "pycharm": {
     "name": "#%%\n"
    }
   }
  },
  {
   "cell_type": "code",
   "execution_count": 5,
   "outputs": [
    {
     "data": {
      "text/plain": "                     total load forecast  total load actual\ntime                                                       \n2019-01-01 00:00:00              23755.0            23401.0\n2019-01-01 01:00:00              22962.0            22699.0\n2019-01-01 02:00:00              21796.0            21336.0\n2019-01-01 03:00:00              20596.0            20184.0\n2019-01-01 04:00:00              19803.0            19430.0\n...                                  ...                ...\n2019-12-31 19:00:00              30081.0            30191.0\n2019-12-31 20:00:00              29479.0            29362.0\n2019-12-31 21:00:00              27766.0            27608.0\n2019-12-31 22:00:00              25246.0            25241.0\n2019-12-31 23:00:00              24075.0            23911.0\n\n[8761 rows x 2 columns]",
      "text/html": "<div>\n<style scoped>\n    .dataframe tbody tr th:only-of-type {\n        vertical-align: middle;\n    }\n\n    .dataframe tbody tr th {\n        vertical-align: top;\n    }\n\n    .dataframe thead th {\n        text-align: right;\n    }\n</style>\n<table border=\"1\" class=\"dataframe\">\n  <thead>\n    <tr style=\"text-align: right;\">\n      <th></th>\n      <th>total load forecast</th>\n      <th>total load actual</th>\n    </tr>\n    <tr>\n      <th>time</th>\n      <th></th>\n      <th></th>\n    </tr>\n  </thead>\n  <tbody>\n    <tr>\n      <th>2019-01-01 00:00:00</th>\n      <td>23755.0</td>\n      <td>23401.0</td>\n    </tr>\n    <tr>\n      <th>2019-01-01 01:00:00</th>\n      <td>22962.0</td>\n      <td>22699.0</td>\n    </tr>\n    <tr>\n      <th>2019-01-01 02:00:00</th>\n      <td>21796.0</td>\n      <td>21336.0</td>\n    </tr>\n    <tr>\n      <th>2019-01-01 03:00:00</th>\n      <td>20596.0</td>\n      <td>20184.0</td>\n    </tr>\n    <tr>\n      <th>2019-01-01 04:00:00</th>\n      <td>19803.0</td>\n      <td>19430.0</td>\n    </tr>\n    <tr>\n      <th>...</th>\n      <td>...</td>\n      <td>...</td>\n    </tr>\n    <tr>\n      <th>2019-12-31 19:00:00</th>\n      <td>30081.0</td>\n      <td>30191.0</td>\n    </tr>\n    <tr>\n      <th>2019-12-31 20:00:00</th>\n      <td>29479.0</td>\n      <td>29362.0</td>\n    </tr>\n    <tr>\n      <th>2019-12-31 21:00:00</th>\n      <td>27766.0</td>\n      <td>27608.0</td>\n    </tr>\n    <tr>\n      <th>2019-12-31 22:00:00</th>\n      <td>25246.0</td>\n      <td>25241.0</td>\n    </tr>\n    <tr>\n      <th>2019-12-31 23:00:00</th>\n      <td>24075.0</td>\n      <td>23911.0</td>\n    </tr>\n  </tbody>\n</table>\n<p>8761 rows × 2 columns</p>\n</div>"
     },
     "execution_count": 5,
     "metadata": {},
     "output_type": "execute_result"
    }
   ],
   "source": [
    "df_2019 = df_2019.rename(columns={\"Day-ahead Total Load Forecast [MW] - BZN|ES\": \"total load forecast\",\n",
    "                        \"Actual Total Load [MW] - BZN|ES\": \"total load actual\"})\n",
    "df_2019 = df_2019.drop(columns=\"time\")\n",
    "df_2019"
   ],
   "metadata": {
    "collapsed": false,
    "pycharm": {
     "name": "#%%\n"
    }
   }
  },
  {
   "cell_type": "code",
   "execution_count": 6,
   "outputs": [
    {
     "data": {
      "text/plain": "                     total load forecast  total load actual  Holidays\ntime                                                                 \n2019-01-01 00:00:00              23755.0            23401.0         1\n2019-01-01 01:00:00              22962.0            22699.0         1\n2019-01-01 02:00:00              21796.0            21336.0         1\n2019-01-01 03:00:00              20596.0            20184.0         1\n2019-01-01 04:00:00              19803.0            19430.0         1\n...                                  ...                ...       ...\n2019-12-31 19:00:00              30081.0            30191.0         0\n2019-12-31 20:00:00              29479.0            29362.0         0\n2019-12-31 21:00:00              27766.0            27608.0         0\n2019-12-31 22:00:00              25246.0            25241.0         0\n2019-12-31 23:00:00              24075.0            23911.0         0\n\n[8761 rows x 3 columns]",
      "text/html": "<div>\n<style scoped>\n    .dataframe tbody tr th:only-of-type {\n        vertical-align: middle;\n    }\n\n    .dataframe tbody tr th {\n        vertical-align: top;\n    }\n\n    .dataframe thead th {\n        text-align: right;\n    }\n</style>\n<table border=\"1\" class=\"dataframe\">\n  <thead>\n    <tr style=\"text-align: right;\">\n      <th></th>\n      <th>total load forecast</th>\n      <th>total load actual</th>\n      <th>Holidays</th>\n    </tr>\n    <tr>\n      <th>time</th>\n      <th></th>\n      <th></th>\n      <th></th>\n    </tr>\n  </thead>\n  <tbody>\n    <tr>\n      <th>2019-01-01 00:00:00</th>\n      <td>23755.0</td>\n      <td>23401.0</td>\n      <td>1</td>\n    </tr>\n    <tr>\n      <th>2019-01-01 01:00:00</th>\n      <td>22962.0</td>\n      <td>22699.0</td>\n      <td>1</td>\n    </tr>\n    <tr>\n      <th>2019-01-01 02:00:00</th>\n      <td>21796.0</td>\n      <td>21336.0</td>\n      <td>1</td>\n    </tr>\n    <tr>\n      <th>2019-01-01 03:00:00</th>\n      <td>20596.0</td>\n      <td>20184.0</td>\n      <td>1</td>\n    </tr>\n    <tr>\n      <th>2019-01-01 04:00:00</th>\n      <td>19803.0</td>\n      <td>19430.0</td>\n      <td>1</td>\n    </tr>\n    <tr>\n      <th>...</th>\n      <td>...</td>\n      <td>...</td>\n      <td>...</td>\n    </tr>\n    <tr>\n      <th>2019-12-31 19:00:00</th>\n      <td>30081.0</td>\n      <td>30191.0</td>\n      <td>0</td>\n    </tr>\n    <tr>\n      <th>2019-12-31 20:00:00</th>\n      <td>29479.0</td>\n      <td>29362.0</td>\n      <td>0</td>\n    </tr>\n    <tr>\n      <th>2019-12-31 21:00:00</th>\n      <td>27766.0</td>\n      <td>27608.0</td>\n      <td>0</td>\n    </tr>\n    <tr>\n      <th>2019-12-31 22:00:00</th>\n      <td>25246.0</td>\n      <td>25241.0</td>\n      <td>0</td>\n    </tr>\n    <tr>\n      <th>2019-12-31 23:00:00</th>\n      <td>24075.0</td>\n      <td>23911.0</td>\n      <td>0</td>\n    </tr>\n  </tbody>\n</table>\n<p>8761 rows × 3 columns</p>\n</div>"
     },
     "execution_count": 6,
     "metadata": {},
     "output_type": "execute_result"
    }
   ],
   "source": [
    "# Add holiday variable\n",
    "festivity = [\"2019-01-01\",\n",
    "             \"2019-04-15\",\n",
    "             \"2019-05-01\",\n",
    "             \"2019-08-15\",\n",
    "             \"2019-10-12\",\n",
    "             \"2019-11-01\",\n",
    "             \"2019-12-06\",\n",
    "             \"2019-12-08\",\n",
    "             \"2019-12-25\",\n",
    "             \"2019-12-26\"]\n",
    "holidays = []\n",
    "\n",
    "for i in df_2019.index:\n",
    "    if str(i).split()[0] in festivity:\n",
    "        holidays.append(1)\n",
    "    elif i.dayofweek == 6 or i.dayofweek == 5:\n",
    "        holidays.append(1)\n",
    "    else:\n",
    "        holidays.append(0)\n",
    "\n",
    "df_2019[\"Holidays\"] = holidays\n",
    "df_2019"
   ],
   "metadata": {
    "collapsed": false,
    "pycharm": {
     "name": "#%%\n"
    }
   }
  },
  {
   "cell_type": "code",
   "execution_count": 7,
   "outputs": [],
   "source": [
    "df_2019.to_csv(\"../data/processed/DF_2019_load.csv\")"
   ],
   "metadata": {
    "collapsed": false,
    "pycharm": {
     "name": "#%%\n"
    }
   }
  },
  {
   "cell_type": "markdown",
   "source": [
    "---"
   ],
   "metadata": {
    "collapsed": false,
    "pycharm": {
     "name": "#%% md\n"
    }
   }
  },
  {
   "cell_type": "markdown",
   "source": [
    "# Mettere parte del login (dato che non posso scaricare i dati senza fare il login) e poi del download del file\n",
    "# Sennò bisogna far leggere la tabella del giorno precedente ed estrarla ogni giorno. In caso si salti un giorno bisognerà scaricare a mano direttamente il file completo."
   ],
   "metadata": {
    "collapsed": false,
    "pycharm": {
     "name": "#%% md\n"
    }
   }
  },
  {
   "cell_type": "code",
   "execution_count": 17,
   "outputs": [],
   "source": [
    "import os\n",
    "\n",
    "# Sistemazione dataframe esterni energy\n",
    "data_path = os.listdir(\"../data/raw/annual_load\")\n",
    "\n",
    "df_cleaned = []\n",
    "\n",
    "\n",
    "for df in data_path:\n",
    "    m_df = pd.read_csv(\"../data/raw/annual_load/\" + df)\n",
    "\n",
    "    # Sistemazione colonna time\n",
    "    new_time_column = [t.split(\"-\")[0] for t in m_df[\"Time (CET/CEST)\"]]\n",
    "    m_df[\"time\"] = new_time_column\n",
    "    m_df = adjust_datetime(df=m_df, col_name=\"time\", form='%d.%m.%Y %H:%M')\n",
    "\n",
    "    # Riassegnazione indice ed eliminazione colonna Time (CET/CEST)\n",
    "    m_df = m_df.set_index(m_df[\"time\"])\n",
    "    m_df.index = pd.to_datetime(m_df.index)\n",
    "    m_df = m_df.drop(columns=[\"Time (CET/CEST)\", \"time\"])\n",
    "\n",
    "    # Ridenominazione colonne\n",
    "    m_df = m_df.rename(columns={\"Day-ahead Total Load Forecast [MW] - BZN|ES\": \"total load forecast\",\n",
    "                        \"Actual Total Load [MW] - BZN|ES\": \"total load actual\"})\n",
    "\n",
    "    # Eliminazione righe con orari non tondi (Es. 2022-12-31 22:45:00)\n",
    "    for t in m_df.index:\n",
    "        if t.minute != 0:\n",
    "            m_df = m_df.drop(m_df[m_df.index == t].index)\n",
    "\n",
    "    df_cleaned.append(m_df)"
   ],
   "metadata": {
    "collapsed": false,
    "pycharm": {
     "name": "#%%\n"
    }
   }
  },
  {
   "cell_type": "code",
   "execution_count": 18,
   "outputs": [],
   "source": [
    "final_df = pd.concat([df_cleaned[0], df_cleaned[1], df_cleaned[2], df_cleaned[3]])"
   ],
   "metadata": {
    "collapsed": false,
    "pycharm": {
     "name": "#%%\n"
    }
   }
  },
  {
   "cell_type": "code",
   "execution_count": 19,
   "outputs": [],
   "source": [
    "from datetime import datetime\n",
    "now = pd.to_datetime(datetime.now())\n",
    "\n",
    "condition = final_df[(final_df.index.year == now.year) &\n",
    "                     (final_df.index.month == now.month) &\n",
    "                     (final_df.index.day == now.day - 1) &\n",
    "                     (final_df.index.hour == 23)].index[0]\n",
    "\n",
    "\n",
    "final_df = final_df.loc[:condition]"
   ],
   "metadata": {
    "collapsed": false,
    "pycharm": {
     "name": "#%%\n"
    }
   }
  },
  {
   "cell_type": "code",
   "execution_count": 20,
   "outputs": [],
   "source": [
    "final_df.to_csv(\"../data/processed/DF_only_load.csv\")"
   ],
   "metadata": {
    "collapsed": false,
    "pycharm": {
     "name": "#%%\n"
    }
   }
  }
 ],
 "metadata": {
  "kernelspec": {
   "display_name": "Python 3",
   "language": "python",
   "name": "python3"
  },
  "language_info": {
   "codemirror_mode": {
    "name": "ipython",
    "version": 2
   },
   "file_extension": ".py",
   "mimetype": "text/x-python",
   "name": "python",
   "nbconvert_exporter": "python",
   "pygments_lexer": "ipython2",
   "version": "2.7.6"
  }
 },
 "nbformat": 4,
 "nbformat_minor": 0
}